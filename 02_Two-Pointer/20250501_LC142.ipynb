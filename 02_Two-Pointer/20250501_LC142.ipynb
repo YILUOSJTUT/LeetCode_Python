{
 "cells": [
  {
   "cell_type": "code",
   "execution_count": 2,
   "id": "fad2148f-b89d-431a-97aa-2e31d0f63e29",
   "metadata": {},
   "outputs": [],
   "source": [
    "# https://leetcode.com/problems/linked-list-cycle-ii/description/"
   ]
  },
  {
   "cell_type": "code",
   "execution_count": 1,
   "id": "041663fd-7f39-426b-951f-503a02d2f107",
   "metadata": {},
   "outputs": [
    {
     "name": "stdout",
     "output_type": "stream",
     "text": [
      "Test case 1: cycle starts at node with value 2\n",
      "Test case 2: cycle starts at node with value 1\n",
      "Test case 3: no cycle\n"
     ]
    }
   ],
   "source": [
    "class ListNode:\n",
    "    def __init__(self, val):\n",
    "        self.val = val\n",
    "        self.next = None\n",
    "\n",
    "class Solution(object):\n",
    "    def detectCycle(self, head):\n",
    "        \"\"\"\n",
    "        :type head: ListNode\n",
    "        :rtype: ListNode or None\n",
    "        \"\"\"\n",
    "        # Phase 1: find meeting point if cycle exists\n",
    "        slow = fast = head\n",
    "        while fast and fast.next:\n",
    "            slow = slow.next             # move slow by one node\n",
    "            fast = fast.next.next        # move fast by two nodes\n",
    "            if slow == fast:             # cycle detected\n",
    "                break\n",
    "        else:\n",
    "            return None                  # no cycle\n",
    "\n",
    "        # Phase 2: find entry point of the cycle\n",
    "        ptr = head\n",
    "        while ptr != slow:\n",
    "            ptr = ptr.next               # move both by one\n",
    "            slow = slow.next\n",
    "        return ptr                       # ptr is the cycle start\n",
    "\n",
    "def build_linked_list_with_cycle(values, pos):\n",
    "    \"\"\"\n",
    "    Build a linked list from 'values' and create a cycle:\n",
    "    - pos: index where the tail connects (-1 means no cycle).\n",
    "    Returns the head of the list.\n",
    "    \"\"\"\n",
    "    nodes = [ListNode(v) for v in values]\n",
    "    for i in range(len(nodes) - 1):\n",
    "        nodes[i].next = nodes[i + 1]\n",
    "    head = nodes[0] if nodes else None\n",
    "    if pos != -1 and nodes:\n",
    "        nodes[-1].next = nodes[pos]   # create cycle\n",
    "    return head\n",
    "\n",
    "if __name__ == \"__main__\":\n",
    "    solution = Solution()\n",
    "    # Test cases: (node values list, cycle position)\n",
    "    tests = [\n",
    "        ([3, 2, 0, -4], 1),   # cycle starts at index 1 (value 2)\n",
    "        ([1, 2], 0),          # cycle starts at index 0 (value 1)\n",
    "        ([1], -1),            # no cycle\n",
    "    ]\n",
    "\n",
    "    for idx, (vals, pos) in enumerate(tests, 1):\n",
    "        head = build_linked_list_with_cycle(vals, pos)\n",
    "        entry = solution.detectCycle(head)\n",
    "        if entry:\n",
    "            print(f\"Test case {idx}: cycle starts at node with value {entry.val}\")\n",
    "        else:\n",
    "            print(f\"Test case {idx}: no cycle\")\n"
   ]
  },
  {
   "cell_type": "code",
   "execution_count": null,
   "id": "e8426cbb-b829-4d8f-955e-285cabca88a0",
   "metadata": {},
   "outputs": [],
   "source": []
  }
 ],
 "metadata": {
  "kernelspec": {
   "display_name": "Python 3 (ipykernel)",
   "language": "python",
   "name": "python3"
  },
  "language_info": {
   "codemirror_mode": {
    "name": "ipython",
    "version": 3
   },
   "file_extension": ".py",
   "mimetype": "text/x-python",
   "name": "python",
   "nbconvert_exporter": "python",
   "pygments_lexer": "ipython3",
   "version": "3.10.11"
  }
 },
 "nbformat": 4,
 "nbformat_minor": 5
}
