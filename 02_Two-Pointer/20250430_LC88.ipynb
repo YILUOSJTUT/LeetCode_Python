{
 "cells": [
  {
   "cell_type": "code",
   "execution_count": 2,
   "id": "797149a0-0cee-4b71-98f4-94467db8b65d",
   "metadata": {},
   "outputs": [],
   "source": [
    "# https://leetcode.com/problems/merge-sorted-array/description/"
   ]
  },
  {
   "cell_type": "code",
   "execution_count": 1,
   "id": "bd40e65f-6bf6-4704-b74a-0e9d51e4d3c7",
   "metadata": {},
   "outputs": [
    {
     "name": "stdout",
     "output_type": "stream",
     "text": [
      "Test case 1: merged = [1, 2, 2, 3, 5, 6] (expected [1, 2, 2, 3, 5, 6])\n",
      "Test case 2: merged = [1] (expected [1])\n",
      "Test case 3: merged = [1] (expected [1])\n"
     ]
    }
   ],
   "source": [
    "class Solution(object):\n",
    "    def merge(self, nums1, m, nums2, n):\n",
    "        \"\"\"\n",
    "        :type nums1: List[int]  # length = m + n, first m are valid\n",
    "        :type m: int             # number of valid elements in nums1\n",
    "        :type nums2: List[int]  # length = n\n",
    "        :type n: int             # length of nums2\n",
    "        :rtype: None             # modify nums1 in-place\n",
    "        \"\"\"\n",
    "        # Pointers: end of valid in nums1, end of nums2, and write position\n",
    "        p1, p2, p = m - 1, n - 1, m + n - 1\n",
    "        \n",
    "        # While there are elements in nums2 to merge\n",
    "        while p2 >= 0:\n",
    "            # If nums1[p1] is larger, take it; otherwise take nums2[p2]\n",
    "            if p1 >= 0 and nums1[p1] > nums2[p2]:\n",
    "                nums1[p] = nums1[p1]\n",
    "                p1 -= 1\n",
    "            else:\n",
    "                nums1[p] = nums2[p2]\n",
    "                p2 -= 1\n",
    "            p -= 1  # Move write pointer left\n",
    "\n",
    "if __name__ == \"__main__\":\n",
    "    solution = Solution()\n",
    "    # Test cases: each is (nums1, m, nums2, n, expected merged nums1)\n",
    "    tests = [\n",
    "        ([1,2,3,0,0,0], 3, [2,5,6], 3, [1,2,2,3,5,6]),\n",
    "        ([1],            1, [],       0, [1]),\n",
    "        ([0],            0, [1],      1, [1]),\n",
    "    ]\n",
    "    \n",
    "    for idx, (nums1, m, nums2, n, expected) in enumerate(tests, 1):\n",
    "        # Make a copy to preserve original for printing\n",
    "        arr1 = nums1[:]  \n",
    "        solution.merge(arr1, m, nums2, n)\n",
    "        print(f\"Test case {idx}: merged = {arr1} (expected {expected})\")\n"
   ]
  },
  {
   "cell_type": "code",
   "execution_count": null,
   "id": "99f5aeac-dd68-4460-bcc3-e47142ecc862",
   "metadata": {},
   "outputs": [],
   "source": []
  }
 ],
 "metadata": {
  "kernelspec": {
   "display_name": "Python 3 (ipykernel)",
   "language": "python",
   "name": "python3"
  },
  "language_info": {
   "codemirror_mode": {
    "name": "ipython",
    "version": 3
   },
   "file_extension": ".py",
   "mimetype": "text/x-python",
   "name": "python",
   "nbconvert_exporter": "python",
   "pygments_lexer": "ipython3",
   "version": "3.10.11"
  }
 },
 "nbformat": 4,
 "nbformat_minor": 5
}
