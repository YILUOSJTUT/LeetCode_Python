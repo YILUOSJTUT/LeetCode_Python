{
 "cells": [
  {
   "cell_type": "code",
   "execution_count": 2,
   "id": "db1fe718-e2d8-4c92-964c-c89cb6664b70",
   "metadata": {},
   "outputs": [],
   "source": [
    "# https://leetcode.com/problems/minimum-window-substring/description/"
   ]
  },
  {
   "cell_type": "code",
   "execution_count": 1,
   "id": "2ea7e932-c265-4e97-9199-ac06b90d43ce",
   "metadata": {},
   "outputs": [
    {
     "name": "stdout",
     "output_type": "stream",
     "text": [
      "Test case 1: s = \"ADOBECODEBANC\", t = \"ABC\" -> \"BANC\" (expected \"BANC\")\n",
      "Test case 2: s = \"a\", t = \"a\" -> \"a\" (expected \"a\")\n",
      "Test case 3: s = \"a\", t = \"aa\" -> \"\" (expected \"\")\n"
     ]
    }
   ],
   "source": [
    "class Solution(object):\n",
    "    def minWindow(self, s, t):\n",
    "        \"\"\"\n",
    "        :type s: str\n",
    "        :type t: str\n",
    "        :rtype: str\n",
    "        \"\"\"\n",
    "        from collections import Counter\n",
    "        \n",
    "        # Count of each character required by t\n",
    "        need = Counter(t)\n",
    "        required = len(need)           # Number of unique chars we must match\n",
    "        \n",
    "        # Sliding window counts and formed count\n",
    "        window = {}\n",
    "        formed = 0\n",
    "        \n",
    "        l = 0                           # Left pointer of window\n",
    "        min_len = float('inf')         # Length of best window found\n",
    "        ans = (0, 0)                    # (start, end) of best window\n",
    "        \n",
    "        # Expand window with right pointer r\n",
    "        for r, ch in enumerate(s):\n",
    "            window[ch] = window.get(ch, 0) + 1\n",
    "            # If current char count matches the required count, increment formed\n",
    "            if ch in need and window[ch] == need[ch]:\n",
    "                formed += 1\n",
    "            \n",
    "            # When all required characters are in the window, contract from left\n",
    "            while l <= r and formed == required:\n",
    "                # Update answer if this window is smaller\n",
    "                if r - l + 1 < min_len:\n",
    "                    min_len = r - l + 1\n",
    "                    ans = (l, r)\n",
    "                \n",
    "                # Pop from left\n",
    "                left_char = s[l]\n",
    "                window[left_char] -= 1\n",
    "                if left_char in need and window[left_char] < need[left_char]:\n",
    "                    formed -= 1\n",
    "                l += 1\n",
    "        \n",
    "        # Return the minimum window substring, or \"\" if none found\n",
    "        return \"\" if min_len == float('inf') else s[ans[0]: ans[1] + 1]\n",
    "\n",
    "if __name__ == \"__main__\":\n",
    "    solution = Solution()\n",
    "    # Test cases: (s, t, expected output)\n",
    "    tests = [\n",
    "        (\"ADOBECODEBANC\", \"ABC\", \"BANC\"),\n",
    "        (\"a\", \"a\", \"a\"),\n",
    "        (\"a\", \"aa\", \"\")\n",
    "    ]\n",
    "\n",
    "    for idx, (s, t, expected) in enumerate(tests, 1):\n",
    "        result = solution.minWindow(s, t)\n",
    "        print(f\"Test case {idx}: s = \\\"{s}\\\", t = \\\"{t}\\\" -> \\\"{result}\\\" (expected \\\"{expected}\\\")\")\n"
   ]
  },
  {
   "cell_type": "code",
   "execution_count": null,
   "id": "92abdb26-97b0-483b-a73b-6df1a2c8d333",
   "metadata": {},
   "outputs": [],
   "source": []
  }
 ],
 "metadata": {
  "kernelspec": {
   "display_name": "Python 3 (ipykernel)",
   "language": "python",
   "name": "python3"
  },
  "language_info": {
   "codemirror_mode": {
    "name": "ipython",
    "version": 3
   },
   "file_extension": ".py",
   "mimetype": "text/x-python",
   "name": "python",
   "nbconvert_exporter": "python",
   "pygments_lexer": "ipython3",
   "version": "3.10.11"
  }
 },
 "nbformat": 4,
 "nbformat_minor": 5
}
