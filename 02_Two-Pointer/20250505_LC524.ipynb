{
 "cells": [
  {
   "cell_type": "code",
   "execution_count": 2,
   "id": "b5ad49f2-f4f4-44a7-a266-d95d15d31742",
   "metadata": {},
   "outputs": [],
   "source": [
    "# https://leetcode.com/problems/longest-word-in-dictionary-through-deleting/description/"
   ]
  },
  {
   "cell_type": "code",
   "execution_count": 1,
   "id": "5ac846e1-965e-4011-91df-694ea71f7f78",
   "metadata": {},
   "outputs": [
    {
     "name": "stdout",
     "output_type": "stream",
     "text": [
      "Test case 1: s = \"abpcplea\", dict = ['ale', 'apple', 'monkey', 'plea'] -> \"apple\" (expected \"apple\")\n",
      "Test case 2: s = \"abpcplea\", dict = ['a', 'b', 'c'] -> \"a\" (expected \"a\")\n"
     ]
    }
   ],
   "source": [
    "class Solution(object):\n",
    "    def findLongestWord(self, s, dictionary):\n",
    "        \"\"\"\n",
    "        :type s: str\n",
    "        :type dictionary: List[str]\n",
    "        :rtype: str\n",
    "        \"\"\"\n",
    "        ans = \"\"  # Best candidate found so far\n",
    "\n",
    "        for word in dictionary:\n",
    "            # Skip if this word is shorter than ans, or same length but lexicographically larger\n",
    "            if len(word) < len(ans) or (len(word) == len(ans) and word > ans):\n",
    "                continue\n",
    "\n",
    "            # Two-pointer check: is word a subsequence of s?\n",
    "            i = j = 0\n",
    "            while i < len(s) and j < len(word):\n",
    "                if s[i] == word[j]:\n",
    "                    j += 1\n",
    "                i += 1\n",
    "\n",
    "            # If we've matched the entire word, update ans\n",
    "            if j == len(word):\n",
    "                ans = word\n",
    "\n",
    "        return ans\n",
    "\n",
    "if __name__ == \"__main__\":\n",
    "    solution = Solution()\n",
    "    # Test cases: (s, dictionary, expected)\n",
    "    tests = [\n",
    "        (\"abpcplea\", [\"ale\", \"apple\", \"monkey\", \"plea\"], \"apple\"),\n",
    "        (\"abpcplea\", [\"a\", \"b\", \"c\"],             \"a\")\n",
    "    ]\n",
    "\n",
    "    for idx, (s, dictionary, expected) in enumerate(tests, 1):\n",
    "        result = solution.findLongestWord(s, dictionary)\n",
    "        print(f\"Test case {idx}: s = \\\"{s}\\\", dict = {dictionary} -> \\\"{result}\\\" (expected \\\"{expected}\\\")\")\n"
   ]
  },
  {
   "cell_type": "code",
   "execution_count": null,
   "id": "cb4d6d29-5678-4f6a-9d10-0c984c23e1f4",
   "metadata": {},
   "outputs": [],
   "source": []
  }
 ],
 "metadata": {
  "kernelspec": {
   "display_name": "Python 3 (ipykernel)",
   "language": "python",
   "name": "python3"
  },
  "language_info": {
   "codemirror_mode": {
    "name": "ipython",
    "version": 3
   },
   "file_extension": ".py",
   "mimetype": "text/x-python",
   "name": "python",
   "nbconvert_exporter": "python",
   "pygments_lexer": "ipython3",
   "version": "3.10.11"
  }
 },
 "nbformat": 4,
 "nbformat_minor": 5
}
