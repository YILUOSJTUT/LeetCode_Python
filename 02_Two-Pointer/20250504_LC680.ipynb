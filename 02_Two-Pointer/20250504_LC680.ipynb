{
 "cells": [
  {
   "cell_type": "code",
   "execution_count": 1,
   "id": "4560d384-2b55-4834-a594-5fc20bd7c543",
   "metadata": {},
   "outputs": [
    {
     "name": "stdout",
     "output_type": "stream",
     "text": [
      "Input: '' -> True (expected: True)\n",
      "Input: 'a' -> True (expected: True)\n",
      "Input: 'ab' -> True (expected: True)\n",
      "Input: 'aba' -> True (expected: True)\n",
      "Input: 'abca' -> True (expected: True)\n",
      "Input: 'abc' -> False (expected: False)\n",
      "Input: 'deeee' -> True (expected: True)\n",
      "Input: 'cbbcc' -> True (expected: False)\n",
      "Input: 'abcdedcba' -> True (expected: True)\n",
      "Input: 'raceacar' -> True (expected: True)\n"
     ]
    }
   ],
   "source": [
    "class Solution(object):\n",
    "    def validPalindrome(self, s):\n",
    "        \"\"\"\n",
    "        :type s: str\n",
    "        :rtype: bool\n",
    "        \"\"\"\n",
    "        def is_pal(sub, left, right):\n",
    "            # Check if sub[left..right] is a palindrome\n",
    "            while left < right:\n",
    "                if sub[left] != sub[right]:\n",
    "                    return False\n",
    "                left += 1\n",
    "                right -= 1\n",
    "            return True\n",
    "\n",
    "        l, r = 0, len(s) - 1\n",
    "        while l < r:\n",
    "            if s[l] == s[r]:\n",
    "                l += 1\n",
    "                r -= 1\n",
    "            else:\n",
    "                # Try skipping one char: either skip left or skip right\n",
    "                return is_pal(s, l+1, r) or is_pal(s, l, r-1)\n",
    "        return True\n",
    "\n",
    "if __name__ == \"__main__\":\n",
    "    sol = Solution()\n",
    "    # Test cases: (input string, expected output)\n",
    "    tests = [\n",
    "        (\"\", True),            # empty string\n",
    "        (\"a\", True),           # single character\n",
    "        (\"ab\", True),          # remove one yields palindrome\n",
    "        (\"aba\", True),         # already palindrome\n",
    "        (\"abca\", True),        # remove 'c'\n",
    "        (\"abc\", False),        # needs two removals\n",
    "        (\"deeee\", True),       # remove 'd'\n",
    "        (\"cbbcc\", False),      # cannot fix with one removal\n",
    "        (\"abcdedcba\", True),   # symmetric\n",
    "        (\"raceacar\", True),    # remove one 'a'\n",
    "    ]\n",
    "\n",
    "    for s, expected in tests:\n",
    "        result = sol.validPalindrome(s)\n",
    "        print(f\"Input: '{s}' -> {result} (expected: {expected})\")\n"
   ]
  },
  {
   "cell_type": "code",
   "execution_count": null,
   "id": "5ad6d9ae-0d8e-4b22-bb14-72b4732e8158",
   "metadata": {},
   "outputs": [],
   "source": []
  }
 ],
 "metadata": {
  "kernelspec": {
   "display_name": "Python 3 (ipykernel)",
   "language": "python",
   "name": "python3"
  },
  "language_info": {
   "codemirror_mode": {
    "name": "ipython",
    "version": 3
   },
   "file_extension": ".py",
   "mimetype": "text/x-python",
   "name": "python",
   "nbconvert_exporter": "python",
   "pygments_lexer": "ipython3",
   "version": "3.10.11"
  }
 },
 "nbformat": 4,
 "nbformat_minor": 5
}
