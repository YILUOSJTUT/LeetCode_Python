{
 "cells": [
  {
   "cell_type": "code",
   "execution_count": 2,
   "id": "5ff5fe3b-5b1a-4081-99ec-a3049f3d892c",
   "metadata": {},
   "outputs": [],
   "source": [
    "# https://leetcode.com/problems/sum-of-square-numbers/description/"
   ]
  },
  {
   "cell_type": "code",
   "execution_count": 1,
   "id": "c88c7dd9-d9a5-44af-ac6a-ea674056a2fa",
   "metadata": {},
   "outputs": [
    {
     "name": "stdout",
     "output_type": "stream",
     "text": [
      "Test case 1: c = 5 -> True (expected True)\n",
      "Test case 2: c = 3 -> False (expected False)\n"
     ]
    }
   ],
   "source": [
    "import math\n",
    "\n",
    "class Solution(object):\n",
    "    def judgeSquareSum(self, c):\n",
    "        \"\"\"\n",
    "        :type c: int\n",
    "        :rtype: bool\n",
    "        \"\"\"\n",
    "        # Two‐pointer range: 0 to floor(sqrt(c))\n",
    "        l, r = 0, math.isqrt(c)\n",
    "        \n",
    "        # Move pointers until they cross\n",
    "        while l <= r:\n",
    "            s = l*l + r*r\n",
    "            if s == c:\n",
    "                return True    # Found l^2 + r^2 == c\n",
    "            elif s < c:\n",
    "                l += 1         # Sum too small → increase left pointer\n",
    "            else:\n",
    "                r -= 1         # Sum too large → decrease right pointer\n",
    "        \n",
    "        return False           # No valid pair found\n",
    "\n",
    "if __name__ == \"__main__\":\n",
    "    solution = Solution()\n",
    "    # Test cases: (c, expected)\n",
    "    tests = [\n",
    "        (5, True),   # 1^2 + 2^2 = 5\n",
    "        (3, False),  # no such pair\n",
    "    ]\n",
    "\n",
    "    for idx, (c, expected) in enumerate(tests, 1):\n",
    "        result = solution.judgeSquareSum(c)\n",
    "        print(f\"Test case {idx}: c = {c} -> {result} (expected {expected})\")\n"
   ]
  },
  {
   "cell_type": "code",
   "execution_count": null,
   "id": "0218aa92-8e61-4d3e-bc1a-2977b7782384",
   "metadata": {},
   "outputs": [],
   "source": []
  }
 ],
 "metadata": {
  "kernelspec": {
   "display_name": "Python 3 (ipykernel)",
   "language": "python",
   "name": "python3"
  },
  "language_info": {
   "codemirror_mode": {
    "name": "ipython",
    "version": 3
   },
   "file_extension": ".py",
   "mimetype": "text/x-python",
   "name": "python",
   "nbconvert_exporter": "python",
   "pygments_lexer": "ipython3",
   "version": "3.10.11"
  }
 },
 "nbformat": 4,
 "nbformat_minor": 5
}
