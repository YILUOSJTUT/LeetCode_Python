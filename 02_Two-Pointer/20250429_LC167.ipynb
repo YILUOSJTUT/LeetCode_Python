{
 "cells": [
  {
   "cell_type": "markdown",
   "id": "e93f2505-9ef6-4d01-a2d5-ab0c1b292b06",
   "metadata": {},
   "source": [
    "# https://leetcode.com/problems/two-sum-ii-input-array-is-sorted/description/"
   ]
  },
  {
   "cell_type": "code",
   "execution_count": 1,
   "id": "18d0e728-b8cd-4901-b242-c5b6c02669ee",
   "metadata": {},
   "outputs": [
    {
     "name": "stdout",
     "output_type": "stream",
     "text": [
      "Test case 1: numbers = [2, 7, 11, 15], target = 9 -> [1, 2]\n",
      "Test case 2: numbers = [2, 3, 4], target = 6 -> [1, 3]\n",
      "Test case 3: numbers = [-1, 0], target = -1 -> [1, 2]\n"
     ]
    }
   ],
   "source": [
    "class Solution(object):\n",
    "    def twoSum(self, numbers, target):\n",
    "        \"\"\"\n",
    "        :type numbers: List[int]\n",
    "        :type target: int\n",
    "        :rtype: List[int]\n",
    "        \"\"\"\n",
    "        l, r = 0, len(numbers) - 1  # Initialize two pointers at the ends\n",
    "        while l < r:\n",
    "            s = numbers[l] + numbers[r]  # Current sum of left and right\n",
    "            if s == target:\n",
    "                return [l + 1, r + 1]    # Return 1-based indices\n",
    "            elif s < target:\n",
    "                l += 1  # Sum too small → move left pointer right\n",
    "            else:\n",
    "                r -= 1  # Sum too large → move right pointer left\n",
    "        return []  # Problem guarantees exactly one solution\n",
    "\n",
    "if __name__ == \"__main__\":\n",
    "    solution = Solution()\n",
    "    # Test cases based on the examples\n",
    "    tests = [\n",
    "        ([2, 7, 11, 15], 9),\n",
    "        ([2, 3, 4], 6),\n",
    "        ([-1, 0], -1),\n",
    "    ]\n",
    "\n",
    "    for idx, (nums, target) in enumerate(tests, 1):\n",
    "        result = solution.twoSum(nums, target)\n",
    "        print(f\"Test case {idx}: numbers = {nums}, target = {target} -> {result}\")\n"
   ]
  },
  {
   "cell_type": "code",
   "execution_count": null,
   "id": "90659172-d56e-4799-b815-deb25765606f",
   "metadata": {},
   "outputs": [],
   "source": []
  }
 ],
 "metadata": {
  "kernelspec": {
   "display_name": "Python 3 (ipykernel)",
   "language": "python",
   "name": "python3"
  },
  "language_info": {
   "codemirror_mode": {
    "name": "ipython",
    "version": 3
   },
   "file_extension": ".py",
   "mimetype": "text/x-python",
   "name": "python",
   "nbconvert_exporter": "python",
   "pygments_lexer": "ipython3",
   "version": "3.10.11"
  }
 },
 "nbformat": 4,
 "nbformat_minor": 5
}
