{
 "cells": [
  {
   "cell_type": "code",
   "execution_count": 2,
   "id": "6be38b5b-6ed9-4015-a8ab-e46e7662d8bb",
   "metadata": {},
   "outputs": [],
   "source": [
    "# https://leetcode.com/problems/find-minimum-in-rotated-sorted-array-ii/description/"
   ]
  },
  {
   "cell_type": "code",
   "execution_count": 1,
   "id": "04b89715-58e9-480d-9d76-79c7de9f4dc5",
   "metadata": {},
   "outputs": [
    {
     "name": "stdout",
     "output_type": "stream",
     "text": [
      "Test case 1: nums = [1, 3, 5] -> min = 1 (expected 1)\n",
      "Test case 2: nums = [2, 2, 2, 0, 1] -> min = 0 (expected 0)\n",
      "Test case 3: nums = [3, 4, 5, 1, 2] -> min = 1 (expected 1)\n",
      "Test case 4: nums = [1, 1, 1, 1, 1] -> min = 1 (expected 1)\n",
      "Test case 5: nums = [10, 1, 10, 10, 10] -> min = 1 (expected 1)\n"
     ]
    }
   ],
   "source": [
    "class Solution(object):\n",
    "    def findMin(self, nums):\n",
    "        \"\"\"\n",
    "        :type nums: List[int]\n",
    "        :rtype: int\n",
    "        \"\"\"\n",
    "        low, high = 0, len(nums) - 1\n",
    "        \n",
    "        # Binary search until the search interval narrows to one element\n",
    "        while low < high:\n",
    "            mid = (low + high) // 2\n",
    "            \n",
    "            if nums[mid] < nums[high]:\n",
    "                # Minimum must be in [low..mid]\n",
    "                high = mid\n",
    "            elif nums[mid] > nums[high]:\n",
    "                # Minimum must be in [mid+1..high]\n",
    "                low = mid + 1\n",
    "            else:\n",
    "                # nums[mid] == nums[high], cannot decide, shrink high by one\n",
    "                high -= 1\n",
    "        \n",
    "        # low == high is the index of the minimum element\n",
    "        return nums[low]\n",
    "\n",
    "\n",
    "if __name__ == \"__main__\":\n",
    "    solution = Solution()\n",
    "    # Test cases: (input array, expected minimum)\n",
    "    tests = [\n",
    "        ([1, 3, 5], 1),\n",
    "        ([2, 2, 2, 0, 1], 0),\n",
    "        ([3, 4, 5, 1, 2], 1),    # rotated\n",
    "        ([1, 1, 1, 1, 1], 1),    # all same\n",
    "        ([10, 1, 10, 10, 10], 1) # duplicates around rotation\n",
    "    ]\n",
    "    \n",
    "    for idx, (nums, expected) in enumerate(tests, 1):\n",
    "        result = solution.findMin(nums[:])\n",
    "        print(f\"Test case {idx}: nums = {nums} -> min = {result} (expected {expected})\")\n"
   ]
  },
  {
   "cell_type": "code",
   "execution_count": null,
   "id": "8a3601df-88da-4ffe-90a0-76458f73b118",
   "metadata": {},
   "outputs": [],
   "source": []
  }
 ],
 "metadata": {
  "kernelspec": {
   "display_name": "Python 3 (ipykernel)",
   "language": "python",
   "name": "python3"
  },
  "language_info": {
   "codemirror_mode": {
    "name": "ipython",
    "version": 3
   },
   "file_extension": ".py",
   "mimetype": "text/x-python",
   "name": "python",
   "nbconvert_exporter": "python",
   "pygments_lexer": "ipython3",
   "version": "3.10.11"
  }
 },
 "nbformat": 4,
 "nbformat_minor": 5
}
