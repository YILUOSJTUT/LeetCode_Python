{
 "cells": [
  {
   "cell_type": "code",
   "execution_count": 2,
   "id": "7387563a-04a3-491d-9015-0bd733f3e165",
   "metadata": {},
   "outputs": [],
   "source": [
    "# https://leetcode.com/problems/find-first-and-last-position-of-element-in-sorted-array/description/"
   ]
  },
  {
   "cell_type": "code",
   "execution_count": 1,
   "id": "b534b2a1-855f-44d4-924c-21a55d8a992b",
   "metadata": {},
   "outputs": [
    {
     "name": "stdout",
     "output_type": "stream",
     "text": [
      "Test case 1: nums = [5, 7, 7, 8, 8, 10], target = 8 -> [3, 4] (expected [3, 4])\n",
      "Test case 2: nums = [5, 7, 7, 8, 8, 10], target = 6 -> [-1, -1] (expected [-1, -1])\n",
      "Test case 3: nums = [], target = 0 -> [-1, -1] (expected [-1, -1])\n"
     ]
    }
   ],
   "source": [
    "class Solution(object):\n",
    "    def searchRange(self, nums, target):\n",
    "        \"\"\"\n",
    "        :type nums: List[int]\n",
    "        :type target: int\n",
    "        :rtype: List[int]\n",
    "        \"\"\"\n",
    "        # Find first index where nums[idx] >= target\n",
    "        def findLeft():\n",
    "            left, right = 0, len(nums)\n",
    "            while left < right:\n",
    "                mid = (left + right) // 2\n",
    "                if nums[mid] < target:\n",
    "                    left = mid + 1\n",
    "                else:\n",
    "                    right = mid\n",
    "            return left\n",
    "\n",
    "        # Find first index where nums[idx] > target\n",
    "        def findRight():\n",
    "            left, right = 0, len(nums)\n",
    "            while left < right:\n",
    "                mid = (left + right) // 2\n",
    "                if nums[mid] <= target:\n",
    "                    left = mid + 1\n",
    "                else:\n",
    "                    right = mid\n",
    "            return left\n",
    "\n",
    "        left_idx = findLeft()            # first position ≥ target\n",
    "        right_idx = findRight() - 1      # last position == target\n",
    "\n",
    "        # Validate and return result\n",
    "        if 0 <= left_idx <= right_idx < len(nums) and nums[left_idx] == target:\n",
    "            return [left_idx, right_idx]\n",
    "        return [-1, -1]\n",
    "\n",
    "if __name__ == \"__main__\":\n",
    "    solution = Solution()\n",
    "    # Test cases: (nums, target, expected)\n",
    "    tests = [\n",
    "        ([5,7,7,8,8,10], 8, [3,4]),\n",
    "        ([5,7,7,8,8,10], 6, [-1,-1]),\n",
    "        ([],               0, [-1,-1]),\n",
    "    ]\n",
    "\n",
    "    for idx, (nums, target, expected) in enumerate(tests, 1):\n",
    "        result = solution.searchRange(nums, target)\n",
    "        print(f\"Test case {idx}: nums = {nums}, target = {target} -> {result} (expected {expected})\")\n"
   ]
  },
  {
   "cell_type": "code",
   "execution_count": null,
   "id": "d31bd009-f693-4d96-9af7-96a26486def9",
   "metadata": {},
   "outputs": [],
   "source": []
  }
 ],
 "metadata": {
  "kernelspec": {
   "display_name": "Python 3 (ipykernel)",
   "language": "python",
   "name": "python3"
  },
  "language_info": {
   "codemirror_mode": {
    "name": "ipython",
    "version": 3
   },
   "file_extension": ".py",
   "mimetype": "text/x-python",
   "name": "python",
   "nbconvert_exporter": "python",
   "pygments_lexer": "ipython3",
   "version": "3.10.11"
  }
 },
 "nbformat": 4,
 "nbformat_minor": 5
}
