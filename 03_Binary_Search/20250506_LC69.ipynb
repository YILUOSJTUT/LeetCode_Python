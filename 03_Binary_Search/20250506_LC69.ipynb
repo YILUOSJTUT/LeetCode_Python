{
 "cells": [
  {
   "cell_type": "code",
   "execution_count": 2,
   "id": "b223124f-e107-439c-8cc0-bcf668e16057",
   "metadata": {},
   "outputs": [],
   "source": [
    "# https://leetcode.com/problems/sqrtx/description/"
   ]
  },
  {
   "cell_type": "code",
   "execution_count": 1,
   "id": "40d7f691-5923-4b3b-8fb1-303491c82351",
   "metadata": {},
   "outputs": [
    {
     "name": "stdout",
     "output_type": "stream",
     "text": [
      "x = 4 -> mySqrt = 2 (expected 2)\n",
      "x = 8 -> mySqrt = 2 (expected 2)\n"
     ]
    }
   ],
   "source": [
    "class Solution(object):\n",
    "    def mySqrt(self, x):\n",
    "        \"\"\"\n",
    "        :type x: int\n",
    "        :rtype: int\n",
    "        \"\"\"\n",
    "        left, right = 0, x        # Search range from 0 to x\n",
    "        result = 0                # To store floor(sqrt(x))\n",
    "        \n",
    "        while left <= right:\n",
    "            mid = (left + right) // 2\n",
    "            sq = mid * mid        # Square of mid\n",
    "            \n",
    "            if sq == x:\n",
    "                return mid        # Exact square root\n",
    "            elif sq < x:\n",
    "                result = mid      # mid is a valid candidate\n",
    "                left = mid + 1    # Search higher\n",
    "            else:\n",
    "                right = mid - 1   # Search lower\n",
    "        \n",
    "        return result             # Floor of sqrt(x)\n",
    "\n",
    "if __name__ == \"__main__\":\n",
    "    solution = Solution()\n",
    "    # Test cases\n",
    "    tests = [\n",
    "        (4, 2),   # sqrt(4) = 2\n",
    "        (8, 2),   # sqrt(8) ≈ 2.828 → floor = 2\n",
    "    ]\n",
    "\n",
    "    for x, expected in tests:\n",
    "        output = solution.mySqrt(x)\n",
    "        print(f\"x = {x} -> mySqrt = {output} (expected {expected})\")\n"
   ]
  },
  {
   "cell_type": "code",
   "execution_count": null,
   "id": "ead17134-3b5e-4013-87a8-972290071c20",
   "metadata": {},
   "outputs": [],
   "source": []
  }
 ],
 "metadata": {
  "kernelspec": {
   "display_name": "Python 3 (ipykernel)",
   "language": "python",
   "name": "python3"
  },
  "language_info": {
   "codemirror_mode": {
    "name": "ipython",
    "version": 3
   },
   "file_extension": ".py",
   "mimetype": "text/x-python",
   "name": "python",
   "nbconvert_exporter": "python",
   "pygments_lexer": "ipython3",
   "version": "3.10.11"
  }
 },
 "nbformat": 4,
 "nbformat_minor": 5
}
