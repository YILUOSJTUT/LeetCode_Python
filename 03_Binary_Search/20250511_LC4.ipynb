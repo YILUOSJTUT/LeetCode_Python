{
 "cells": [
  {
   "cell_type": "code",
   "execution_count": 2,
   "id": "09eaa93f-87c1-4fae-a063-ec7da9719d65",
   "metadata": {},
   "outputs": [],
   "source": [
    "# https://leetcode.com/problems/median-of-two-sorted-arrays/"
   ]
  },
  {
   "cell_type": "code",
   "execution_count": 1,
   "id": "0a50bbff-0f8d-4a27-b78a-24542bdfbdad",
   "metadata": {},
   "outputs": [
    {
     "name": "stdout",
     "output_type": "stream",
     "text": [
      "nums1=[2], nums2=[1, 3] -> median = 2.0\n",
      "nums1=[1, 2], nums2=[3, 4] -> median = 2.5\n"
     ]
    }
   ],
   "source": [
    "class Solution(object):\n",
    "    def findMedianSortedArrays(self, nums1, nums2):\n",
    "        \"\"\"\n",
    "        :type nums1: List[int]\n",
    "        :type nums2: List[int]\n",
    "        :rtype: float\n",
    "        \"\"\"\n",
    "        # Ensure nums1 is the smaller array\n",
    "        if len(nums1) > len(nums2):\n",
    "            nums1, nums2 = nums2, nums1\n",
    "\n",
    "        m, n = len(nums1), len(nums2)\n",
    "        half_len = (m + n + 1) // 2\n",
    "\n",
    "        left, right = 0, m\n",
    "        while left <= right:\n",
    "            i = (left + right) // 2\n",
    "            j = half_len - i\n",
    "\n",
    "            maxLeft1 = nums1[i-1] if i > 0 else float(\"-inf\")\n",
    "            minRight1 = nums1[i]   if i < m else float(\"inf\")\n",
    "            maxLeft2 = nums2[j-1] if j > 0 else float(\"-inf\")\n",
    "            minRight2 = nums2[j]   if j < n else float(\"inf\")\n",
    "\n",
    "            if maxLeft1 <= minRight2 and maxLeft2 <= minRight1:\n",
    "                if (m + n) % 2 == 1:\n",
    "                    median = float(max(maxLeft1, maxLeft2))\n",
    "                else:\n",
    "                    median = (max(maxLeft1, maxLeft2) + min(minRight1, minRight2)) / 2.0\n",
    "                print(f\"nums1={nums1}, nums2={nums2} -> median = {median}\")\n",
    "                return median\n",
    "            elif maxLeft1 > minRight2:\n",
    "                right = i - 1\n",
    "            else:\n",
    "                left = i + 1\n",
    "\n",
    "if __name__ == \"__main__\":\n",
    "    solution = Solution()\n",
    "    # Example test cases with expected medians\n",
    "    test_cases = [\n",
    "        ([1, 3], [2]),      # expected 2.0\n",
    "        ([1, 2], [3, 4])    # expected 2.5\n",
    "    ]\n",
    "\n",
    "    for nums1, nums2 in test_cases:\n",
    "        solution.findMedianSortedArrays(nums1, nums2)\n"
   ]
  },
  {
   "cell_type": "code",
   "execution_count": null,
   "id": "0218318c-177b-44ca-a782-cc28d3a89143",
   "metadata": {},
   "outputs": [],
   "source": []
  }
 ],
 "metadata": {
  "kernelspec": {
   "display_name": "Python 3 (ipykernel)",
   "language": "python",
   "name": "python3"
  },
  "language_info": {
   "codemirror_mode": {
    "name": "ipython",
    "version": 3
   },
   "file_extension": ".py",
   "mimetype": "text/x-python",
   "name": "python",
   "nbconvert_exporter": "python",
   "pygments_lexer": "ipython3",
   "version": "3.10.11"
  }
 },
 "nbformat": 4,
 "nbformat_minor": 5
}
