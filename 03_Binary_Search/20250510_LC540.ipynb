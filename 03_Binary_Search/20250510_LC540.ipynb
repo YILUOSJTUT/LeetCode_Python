{
 "cells": [
  {
   "cell_type": "code",
   "execution_count": 2,
   "id": "4b7744f9-2675-4490-ab32-659c0f5e188e",
   "metadata": {},
   "outputs": [],
   "source": [
    "# https://leetcode.com/problems/single-element-in-a-sorted-array/description/"
   ]
  },
  {
   "cell_type": "code",
   "execution_count": 1,
   "id": "fd18c029-4da8-4bcc-bfbb-d2418393e681",
   "metadata": {},
   "outputs": [
    {
     "name": "stdout",
     "output_type": "stream",
     "text": [
      "Test case 1: nums = [1, 1, 2, 3, 3, 4, 4, 8, 8] -> single = 2 (expected 2)\n",
      "Test case 2: nums = [3, 3, 7, 7, 10, 11, 11] -> single = 10 (expected 10)\n",
      "Test case 3: nums = [0, 1, 1] -> single = 0 (expected 0)\n",
      "Test case 4: nums = [1, 1, 2] -> single = 2 (expected 2)\n",
      "Test case 5: nums = [5] -> single = 5 (expected 5)\n"
     ]
    }
   ],
   "source": [
    "class Solution(object):\n",
    "    def singleNonDuplicate(self, nums):\n",
    "        \"\"\"\n",
    "        :type nums: List[int]\n",
    "        :rtype: int\n",
    "        \"\"\"\n",
    "        left, right = 0, len(nums) - 1\n",
    "        \n",
    "        # Binary search until the interval narrows to a single point\n",
    "        while left < right:\n",
    "            mid = (left + right) // 2\n",
    "            # Ensure mid is even for pairing with mid+1\n",
    "            if mid % 2 == 1:\n",
    "                mid -= 1\n",
    "            \n",
    "            # If nums[mid] pairs with nums[mid+1], single element is in the right half\n",
    "            if nums[mid] == nums[mid + 1]:\n",
    "                left = mid + 2\n",
    "            else:\n",
    "                # Otherwise, it's in the left half (including mid)\n",
    "                right = mid\n",
    "        \n",
    "        return nums[left]\n",
    "\n",
    "if __name__ == \"__main__\":\n",
    "    solution = Solution()\n",
    "    # Test cases: (input array, expected output)\n",
    "    tests = [\n",
    "        ([1,1,2,3,3,4,4,8,8], 2),\n",
    "        ([3,3,7,7,10,11,11], 10),\n",
    "        # Additional edge cases\n",
    "        ([0,1,1], 0),\n",
    "        ([1,1,2], 2),\n",
    "        ([5], 5)\n",
    "    ]\n",
    "    for idx, (nums, expected) in enumerate(tests, 1):\n",
    "        result = solution.singleNonDuplicate(nums)\n",
    "        print(f\"Test case {idx}: nums = {nums} -> single = {result} (expected {expected})\")\n"
   ]
  },
  {
   "cell_type": "code",
   "execution_count": null,
   "id": "e3e23d2d-a623-4841-a0f7-c5b8aa4d487f",
   "metadata": {},
   "outputs": [],
   "source": []
  }
 ],
 "metadata": {
  "kernelspec": {
   "display_name": "Python 3 (ipykernel)",
   "language": "python",
   "name": "python3"
  },
  "language_info": {
   "codemirror_mode": {
    "name": "ipython",
    "version": 3
   },
   "file_extension": ".py",
   "mimetype": "text/x-python",
   "name": "python",
   "nbconvert_exporter": "python",
   "pygments_lexer": "ipython3",
   "version": "3.10.11"
  }
 },
 "nbformat": 4,
 "nbformat_minor": 5
}
