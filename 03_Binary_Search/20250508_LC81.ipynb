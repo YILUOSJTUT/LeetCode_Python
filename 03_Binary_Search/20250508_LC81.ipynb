{
 "cells": [
  {
   "cell_type": "code",
   "execution_count": 2,
   "id": "b835a7cb-31b1-4d1d-8839-b1a0c79f6477",
   "metadata": {},
   "outputs": [],
   "source": [
    "# https://leetcode.com/problems/search-in-rotated-sorted-array-ii/description/"
   ]
  },
  {
   "cell_type": "code",
   "execution_count": 1,
   "id": "178880a8-876f-41b2-af1b-5b74fc0a624f",
   "metadata": {},
   "outputs": [
    {
     "name": "stdout",
     "output_type": "stream",
     "text": [
      "Test 1: nums=[2, 5, 6, 0, 0, 1, 2], target=0 -> True (expected True)\n",
      "Test 2: nums=[2, 5, 6, 0, 0, 1, 2], target=3 -> False (expected False)\n",
      "Test 3: nums=[1, 0, 1, 1, 1], target=0 -> True (expected True)\n"
     ]
    }
   ],
   "source": [
    "class Solution(object):\n",
    "    def search(self, nums, target):\n",
    "        \"\"\"\n",
    "        :type nums: List[int]\n",
    "        :type target: int\n",
    "        :rtype: bool\n",
    "        \"\"\"\n",
    "        low, high = 0, len(nums) - 1\n",
    "\n",
    "        while low <= high:\n",
    "            mid = (low + high) // 2\n",
    "            if nums[mid] == target:\n",
    "                return True\n",
    "\n",
    "            # If elements at low, mid, high are the same, we shrink both ends\n",
    "            if nums[low] == nums[mid] == nums[high]:\n",
    "                low += 1\n",
    "                high -= 1\n",
    "            # If the left half is sorted\n",
    "            elif nums[low] <= nums[mid]:\n",
    "                # Check if target is in the left half\n",
    "                if nums[low] <= target < nums[mid]:\n",
    "                    high = mid - 1\n",
    "                else:\n",
    "                    low = mid + 1\n",
    "            # Otherwise the right half must be sorted\n",
    "            else:\n",
    "                # Check if target is in the right half\n",
    "                if nums[mid] < target <= nums[high]:\n",
    "                    low = mid + 1\n",
    "                else:\n",
    "                    high = mid - 1\n",
    "\n",
    "        return False\n",
    "\n",
    "if __name__ == \"__main__\":\n",
    "    solution = Solution()\n",
    "    # Test cases: (array, target, expected)\n",
    "    tests = [\n",
    "        ([2,5,6,0,0,1,2], 0, True),\n",
    "        ([2,5,6,0,0,1,2], 3, False),\n",
    "        ([1,0,1,1,1],        0, True),  # duplicates at ends\n",
    "    ]\n",
    "\n",
    "    for i, (nums, target, expected) in enumerate(tests, 1):\n",
    "        result = solution.search(nums, target)\n",
    "        print(f\"Test {i}: nums={nums}, target={target} -> {result} (expected {expected})\")\n"
   ]
  },
  {
   "cell_type": "code",
   "execution_count": null,
   "id": "0dc91b98-f2de-4f97-8fbc-e8c457f0a177",
   "metadata": {},
   "outputs": [],
   "source": []
  }
 ],
 "metadata": {
  "kernelspec": {
   "display_name": "Python 3 (ipykernel)",
   "language": "python",
   "name": "python3"
  },
  "language_info": {
   "codemirror_mode": {
    "name": "ipython",
    "version": 3
   },
   "file_extension": ".py",
   "mimetype": "text/x-python",
   "name": "python",
   "nbconvert_exporter": "python",
   "pygments_lexer": "ipython3",
   "version": "3.10.11"
  }
 },
 "nbformat": 4,
 "nbformat_minor": 5
}
