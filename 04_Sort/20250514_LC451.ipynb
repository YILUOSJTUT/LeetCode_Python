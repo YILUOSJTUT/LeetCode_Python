{
 "cells": [
  {
   "cell_type": "code",
   "execution_count": 2,
   "id": "8b26ae41-5be7-4470-8efc-162329bdfab8",
   "metadata": {},
   "outputs": [],
   "source": [
    "# https://leetcode.com/problems/sort-characters-by-frequency/description/"
   ]
  },
  {
   "cell_type": "code",
   "execution_count": 1,
   "id": "bd491b9e-8331-41e4-94d9-9beeb5071b1d",
   "metadata": {},
   "outputs": [
    {
     "name": "stdout",
     "output_type": "stream",
     "text": [
      "Input: 'tree' -> Output: eetr, Valid: True\n",
      "Input: 'cccaaa' -> Output: cccaaa, Valid: True\n",
      "Input: 'Aabb' -> Output: bbAa, Valid: True\n"
     ]
    }
   ],
   "source": [
    "from collections import Counter\n",
    "\n",
    "class Solution:\n",
    "    def frequencySort(self, s: str) -> str:\n",
    "        \"\"\"\n",
    "        :type s: str\n",
    "        :rtype: str\n",
    "        \"\"\"\n",
    "        # 1. Count frequency of each character\n",
    "        freq = Counter(s)\n",
    "        \n",
    "        # 2. Create buckets where index = frequency (0..len(s))\n",
    "        n = len(s)\n",
    "        bucket = [[] for _ in range(n + 1)]\n",
    "        \n",
    "        # 3. Fill the buckets: bucket[f] contains all chars appearing f times\n",
    "        for ch, f in freq.items():\n",
    "            bucket[f].append(ch)\n",
    "        \n",
    "        # 4. Build the result by scanning buckets from high frequency to low\n",
    "        res_parts = []\n",
    "        for f in range(n, 0, -1):\n",
    "            for ch in bucket[f]:\n",
    "                res_parts.append(ch * f)\n",
    "        \n",
    "        # join all parts into the final string\n",
    "        return \"\".join(res_parts)\n",
    "\n",
    "# Example test cases\n",
    "solution = Solution()\n",
    "test_cases = [\n",
    "    (\"tree\", [\"eert\", \"eetr\"]),\n",
    "    (\"cccaaa\", [\"cccaaa\", \"aaaccc\"]),\n",
    "    (\"Aabb\", [\"bbAa\", \"bbaA\"]),\n",
    "]\n",
    "\n",
    "for s, valid_outputs in test_cases:\n",
    "    output = solution.frequencySort(s)\n",
    "    print(f\"Input: {s!r} -> Output: {output}, Valid: {output in valid_outputs}\")\n"
   ]
  },
  {
   "cell_type": "code",
   "execution_count": null,
   "id": "4ecc218e-8a1b-4518-a343-452ba7991184",
   "metadata": {},
   "outputs": [],
   "source": []
  }
 ],
 "metadata": {
  "kernelspec": {
   "display_name": "Python 3 (ipykernel)",
   "language": "python",
   "name": "python3"
  },
  "language_info": {
   "codemirror_mode": {
    "name": "ipython",
    "version": 3
   },
   "file_extension": ".py",
   "mimetype": "text/x-python",
   "name": "python",
   "nbconvert_exporter": "python",
   "pygments_lexer": "ipython3",
   "version": "3.10.11"
  }
 },
 "nbformat": 4,
 "nbformat_minor": 5
}
