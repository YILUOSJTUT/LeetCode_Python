{
 "cells": [
  {
   "cell_type": "code",
   "execution_count": 2,
   "id": "987cf194-5155-415c-a67d-ac8809406d5f",
   "metadata": {},
   "outputs": [],
   "source": [
    "# https://leetcode.com/problems/top-k-frequent-elements/description/"
   ]
  },
  {
   "cell_type": "code",
   "execution_count": 1,
   "id": "e9b71029-96de-434a-8d30-fa0be15d488e",
   "metadata": {},
   "outputs": [
    {
     "name": "stdout",
     "output_type": "stream",
     "text": [
      "Test case 1: nums = [1, 1, 1, 2, 2, 3], k = 2 -> [1, 2] (expected [1, 2])\n",
      "Test case 2: nums = [1], k = 1 -> [1] (expected [1])\n"
     ]
    }
   ],
   "source": [
    "from collections import Counter\n",
    "\n",
    "class Solution:\n",
    "    def topKFrequent(self, nums, k):\n",
    "        # 1. Count the frequency of each number\n",
    "        freq = Counter(nums)\n",
    "        \n",
    "        # 2. Create buckets where index is frequency, up to len(nums)\n",
    "        n = len(nums)\n",
    "        bucket = [[] for _ in range(n + 1)]\n",
    "        \n",
    "        # 3. Fill the buckets: bucket[f] contains all numbers appearing f times\n",
    "        for num, count in freq.items():\n",
    "            bucket[count].append(num)\n",
    "        \n",
    "        # 4. Gather the top k frequent elements from the buckets\n",
    "        result = []\n",
    "        for f in range(n, 0, -1):\n",
    "            for num in bucket[f]:\n",
    "                result.append(num)\n",
    "                if len(result) == k:\n",
    "                    return result\n",
    "        return result\n",
    "\n",
    "# Run the test cases\n",
    "solution = Solution()\n",
    "tests = [\n",
    "    ([1,1,1,2,2,3], 2, [1, 2]),\n",
    "    ([1], 1, [1]),\n",
    "]\n",
    "\n",
    "for idx, (nums, k, expected) in enumerate(tests, 1):\n",
    "    output = solution.topKFrequent(nums, k)\n",
    "    print(f\"Test case {idx}: nums = {nums}, k = {k} -> {output} (expected {expected})\")\n"
   ]
  },
  {
   "cell_type": "code",
   "execution_count": null,
   "id": "b6de688b-d84b-4c5c-99c7-d938bf216d1c",
   "metadata": {},
   "outputs": [],
   "source": []
  }
 ],
 "metadata": {
  "kernelspec": {
   "display_name": "Python 3 (ipykernel)",
   "language": "python",
   "name": "python3"
  },
  "language_info": {
   "codemirror_mode": {
    "name": "ipython",
    "version": 3
   },
   "file_extension": ".py",
   "mimetype": "text/x-python",
   "name": "python",
   "nbconvert_exporter": "python",
   "pygments_lexer": "ipython3",
   "version": "3.10.11"
  }
 },
 "nbformat": 4,
 "nbformat_minor": 5
}
