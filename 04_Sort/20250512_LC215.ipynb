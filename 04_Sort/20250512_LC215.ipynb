{
 "cells": [
  {
   "cell_type": "code",
   "execution_count": 2,
   "id": "10bb31e0-6e88-4de3-95c0-1774bd6b9bde",
   "metadata": {},
   "outputs": [],
   "source": [
    "# https://leetcode.com/problems/kth-largest-element-in-an-array/description/"
   ]
  },
  {
   "cell_type": "code",
   "execution_count": 1,
   "id": "8e54eab3-f664-4d01-8357-95090d2f9a3f",
   "metadata": {},
   "outputs": [
    {
     "name": "stdout",
     "output_type": "stream",
     "text": [
      "Test case 1: nums = [3, 2, 1, 5, 6, 4], k = 2 -> 5 (expected 5)\n",
      "Test case 2: nums = [3, 2, 3, 1, 2, 4, 5, 5, 6], k = 4 -> 4 (expected 4)\n"
     ]
    }
   ],
   "source": [
    "class Solution(object):\n",
    "    def findKthLargest(self, nums, k):\n",
    "        nums.sort(reverse=True)\n",
    "        return nums[k - 1]\n",
    "\n",
    "if __name__ == \"__main__\":\n",
    "    solution = Solution()\n",
    "    tests = [\n",
    "        ([3, 2, 1, 5, 6, 4], 2, 5),\n",
    "        ([3, 2, 3, 1, 2, 4, 5, 5, 6], 4, 4),\n",
    "    ]\n",
    "\n",
    "    for idx, (nums, k, expected) in enumerate(tests, 1):\n",
    "        result = solution.findKthLargest(nums[:], k)\n",
    "        print(f\"Test case {idx}: nums = {nums}, k = {k} -> {result} (expected {expected})\")\n"
   ]
  },
  {
   "cell_type": "code",
   "execution_count": null,
   "id": "29df438e-d0d2-4240-97e6-5561a3e3b332",
   "metadata": {},
   "outputs": [],
   "source": []
  }
 ],
 "metadata": {
  "kernelspec": {
   "display_name": "Python 3 (ipykernel)",
   "language": "python",
   "name": "python3"
  },
  "language_info": {
   "codemirror_mode": {
    "name": "ipython",
    "version": 3
   },
   "file_extension": ".py",
   "mimetype": "text/x-python",
   "name": "python",
   "nbconvert_exporter": "python",
   "pygments_lexer": "ipython3",
   "version": "3.10.11"
  }
 },
 "nbformat": 4,
 "nbformat_minor": 5
}
