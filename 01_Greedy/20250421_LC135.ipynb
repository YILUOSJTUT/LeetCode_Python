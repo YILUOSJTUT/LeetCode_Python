{
 "cells": [
  {
   "cell_type": "markdown",
   "id": "d9d47f5f-15af-4322-9f30-541d7226f84f",
   "metadata": {},
   "source": [
    "# https://leetcode.com/problems/candy/"
   ]
  },
  {
   "cell_type": "code",
   "execution_count": 1,
   "id": "4e3ecbf7-7d76-4f30-b2df-6bb351d35cfc",
   "metadata": {},
   "outputs": [
    {
     "name": "stdout",
     "output_type": "stream",
     "text": [
      "Test case 1: ratings = [1, 0, 2] -> candies needed = 5\n",
      "Test case 2: ratings = [1, 2, 2] -> candies needed = 4\n",
      "Test case 3: ratings = [1, 3, 4, 5, 2] -> candies needed = 11\n"
     ]
    }
   ],
   "source": [
    "class Solution(object):\n",
    "    def candy(self, ratings):\n",
    "        \"\"\"\n",
    "        :param ratings: List[int] - List of children's ratings.\n",
    "        :return: int - Minimum number of candies required.\n",
    "        \"\"\"\n",
    "        n = len(ratings)\n",
    "        # Start each child with 1 candy\n",
    "        candies = [1] * n\n",
    "\n",
    "        # Left-to-right pass: if current child has higher rating than left neighbor,\n",
    "        # give one more candy than left neighbor.\n",
    "        for i in range(1, n):\n",
    "            if ratings[i] > ratings[i - 1]:\n",
    "                candies[i] = candies[i - 1] + 1\n",
    "\n",
    "        # Right-to-left pass: if current child has higher rating than right neighbor,\n",
    "        # ensure they have more candies than right neighbor.\n",
    "        for i in range(n - 2, -1, -1):\n",
    "            if ratings[i] > ratings[i + 1]:\n",
    "                # take the max in case left-to-right already gave more\n",
    "                candies[i] = max(candies[i], candies[i + 1] + 1)\n",
    "\n",
    "        # Total candies needed is the sum of the array\n",
    "        return sum(candies)\n",
    "\n",
    "if __name__ == \"__main__\":\n",
    "    solution = Solution()\n",
    "    # Define test cases: each is a list of ratings\n",
    "    tests = [\n",
    "        [1, 0, 2],        # expected output: 5\n",
    "        [1, 2, 2],        # expected output: 4\n",
    "        [1, 3, 4, 5, 2]   # expected output: 11\n",
    "    ]\n",
    "\n",
    "    for idx, ratings in enumerate(tests, 1):\n",
    "        result = solution.candy(ratings)\n",
    "        print(f\"Test case {idx}: ratings = {ratings} -> candies needed = {result}\")\n"
   ]
  },
  {
   "cell_type": "code",
   "execution_count": null,
   "id": "ddf4455c-2f0b-4d1d-802f-d7b34f7b9f92",
   "metadata": {},
   "outputs": [],
   "source": []
  }
 ],
 "metadata": {
  "kernelspec": {
   "display_name": "Python 3 (ipykernel)",
   "language": "python",
   "name": "python3"
  },
  "language_info": {
   "codemirror_mode": {
    "name": "ipython",
    "version": 3
   },
   "file_extension": ".py",
   "mimetype": "text/x-python",
   "name": "python",
   "nbconvert_exporter": "python",
   "pygments_lexer": "ipython3",
   "version": "3.10.11"
  }
 },
 "nbformat": 4,
 "nbformat_minor": 5
}
