{
 "cells": [
  {
   "cell_type": "markdown",
   "id": "b3cbd5a9-aa9e-47f7-9248-3b227c2d31b6",
   "metadata": {},
   "source": [
    "# https://leetcode.com/problems/non-overlapping-intervals/"
   ]
  },
  {
   "cell_type": "code",
   "execution_count": 1,
   "id": "dc3253f9-b16f-4cd5-8522-cd15f413b05b",
   "metadata": {},
   "outputs": [
    {
     "name": "stdout",
     "output_type": "stream",
     "text": [
      "Test #1: intervals = [[1, 2], [2, 3], [3, 3], [1, 3]] -> removed = 1 (expected 1)\n",
      "Test #2: intervals = [[1, 2], [1, 2], [1, 2]] -> removed = 2 (expected 2)\n",
      "Test #3: intervals = [[1, 2], [2, 3]] -> removed = 0 (expected 0)\n"
     ]
    }
   ],
   "source": [
    "class Solution(object):\n",
    "    def eraseOverlapIntervals(self, intervals):\n",
    "        \"\"\"\n",
    "        :param intervals: List[List[int]] - List of intervals [start, end]\n",
    "        :return: int - Minimum number of intervals to remove\n",
    "        \"\"\"\n",
    "        if not intervals:\n",
    "            return 0\n",
    "\n",
    "        # Sort intervals by their end times (greedy strategy)\n",
    "        intervals.sort(key=lambda x: x[1])\n",
    "\n",
    "        count = 0                    # Number of intervals removed\n",
    "        last_end = float('-inf')     # End time of the last interval we kept\n",
    "\n",
    "        for start, end in intervals:\n",
    "            if start < last_end:\n",
    "                # Overlap detected: remove this interval\n",
    "                count += 1\n",
    "            else:\n",
    "                # No overlap: keep this interval and update last_end\n",
    "                last_end = end\n",
    "\n",
    "        return count\n",
    "\n",
    "if __name__ == \"__main__\":\n",
    "    solution = Solution()\n",
    "    # Define test cases: each is a list of [start, end] intervals\n",
    "    tests = [\n",
    "        ([[1, 2], [2, 3], [3, 3], [1, 3]], 1),   # expected 1\n",
    "        ([[1, 2], [1, 2], [1, 2]], 2),           # expected 2\n",
    "        ([[1, 2], [2, 3]], 0),                   # expected 0\n",
    "    ]\n",
    "\n",
    "    for idx, (intervals, expected) in enumerate(tests, 1):\n",
    "        result = solution.eraseOverlapIntervals(intervals)\n",
    "        print(f\"Test #{idx}: intervals = {intervals} -> removed = {result} (expected {expected})\")\n"
   ]
  },
  {
   "cell_type": "code",
   "execution_count": null,
   "id": "41fe2e71-242a-4c5e-8daf-975c2242c21b",
   "metadata": {},
   "outputs": [],
   "source": []
  }
 ],
 "metadata": {
  "kernelspec": {
   "display_name": "Python 3 (ipykernel)",
   "language": "python",
   "name": "python3"
  },
  "language_info": {
   "codemirror_mode": {
    "name": "ipython",
    "version": 3
   },
   "file_extension": ".py",
   "mimetype": "text/x-python",
   "name": "python",
   "nbconvert_exporter": "python",
   "pygments_lexer": "ipython3",
   "version": "3.10.11"
  }
 },
 "nbformat": 4,
 "nbformat_minor": 5
}
