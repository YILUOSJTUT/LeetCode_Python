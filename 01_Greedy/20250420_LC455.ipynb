{
 "cells": [
  {
   "cell_type": "markdown",
   "id": "a7cb0798-6008-4d81-b03b-fd18182be98f",
   "metadata": {},
   "source": [
    "# https://leetcode.com/problems/assign-cookies/"
   ]
  },
  {
   "cell_type": "code",
   "execution_count": 1,
   "id": "6afcb52e-c57e-4740-a90b-9014720ec76d",
   "metadata": {},
   "outputs": [],
   "source": [
    "class Solution(object):\n",
    "    def findContentChildren(self, g, s):\n",
    "        \"\"\"\n",
    "        param g: List[int] - greed factor of children\n",
    "        param s: List[int] - sizes of cookies\n",
    "        return: int - maximum number of children that can be satisfied\n",
    "        \"\"\"\n",
    "        g.sort()  # Sort greed factors\n",
    "        s.sort()  # Sort cookie sizes\n",
    "\n",
    "        i, j = 0, 0  # Pointers for children and cookies\n",
    "        count = 0  # Count of satisfied children\n",
    "\n",
    "        while i < len(g) and j < len(s):\n",
    "            if s[j] >= g[i]:  # If the current cookie satisfies the child\n",
    "                 count += 1\n",
    "                 i += 1  # Move to the next child\n",
    "            j += 1  # Move to the next cookie\n",
    "\n",
    "        return count"
   ]
  },
  {
   "cell_type": "code",
   "execution_count": 2,
   "id": "649a7941-4754-4ac7-b349-d3f9698b36b2",
   "metadata": {},
   "outputs": [
    {
     "name": "stdout",
     "output_type": "stream",
     "text": [
      "Test case 1: greed=[1, 2, 3], cookies=[1, 1] -> satisfied=1\n",
      "Test case 2: greed=[1, 2], cookies=[1, 2, 3] -> satisfied=2\n",
      "Test case 3: greed=[7, 8, 9, 10], cookies=[5, 6, 7, 8] -> satisfied=2\n"
     ]
    }
   ],
   "source": [
    "if __name__ == \"__main__\":\n",
    "    solution = Solution()\n",
    "    # Each tuple is (greed list g, cookie sizes list s)\n",
    "    tests = [\n",
    "        ([1, 2, 3], [1, 1]),        # expected output: 1\n",
    "        ([1, 2], [1, 2, 3]),        # expected output: 2\n",
    "        ([10, 9, 8, 7], [5, 6, 7, 8])  # expected output: 2\n",
    "    ]\n",
    "\n",
    "    for idx, (g, s) in enumerate(tests, 1):\n",
    "        result = solution.findContentChildren(g, s)\n",
    "        print(f\"Test case {idx}: greed={g}, cookies={s} -> satisfied={result}\")\n"
   ]
  },
  {
   "cell_type": "code",
   "execution_count": null,
   "id": "4c1dd11e-7b0d-4b67-ac20-caade6961fe8",
   "metadata": {},
   "outputs": [],
   "source": []
  }
 ],
 "metadata": {
  "kernelspec": {
   "display_name": "Python 3 (ipykernel)",
   "language": "python",
   "name": "python3"
  },
  "language_info": {
   "codemirror_mode": {
    "name": "ipython",
    "version": 3
   },
   "file_extension": ".py",
   "mimetype": "text/x-python",
   "name": "python",
   "nbconvert_exporter": "python",
   "pygments_lexer": "ipython3",
   "version": "3.10.11"
  }
 },
 "nbformat": 4,
 "nbformat_minor": 5
}
