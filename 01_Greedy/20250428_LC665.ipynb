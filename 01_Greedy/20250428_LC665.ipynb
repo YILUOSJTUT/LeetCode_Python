{
 "cells": [
  {
   "cell_type": "code",
   "execution_count": 1,
   "id": "aedd2ac1-fd5d-4739-98a5-fbf1d0260ba7",
   "metadata": {},
   "outputs": [
    {
     "name": "stdout",
     "output_type": "stream",
     "text": [
      "Test case 1: nums = [4, 2, 3] -> True (expected True)\n",
      "Test case 2: nums = [4, 2, 1] -> False (expected False)\n",
      "Test case 3: nums = [3, 4, 2, 3] -> False (expected False)\n",
      "Test case 4: nums = [5, 7, 1, 8] -> True (expected True)\n"
     ]
    }
   ],
   "source": [
    "class Solution(object):\n",
    "    def checkPossibility(self, nums):\n",
    "        \"\"\"\n",
    "        :type nums: List[int]\n",
    "        :rtype: bool\n",
    "        \"\"\"\n",
    "        changed = False  # Whether we've modified one element already\n",
    "        \n",
    "        for i in range(len(nums) - 1):\n",
    "            if nums[i] > nums[i + 1]:  # Found an inversion\n",
    "                if changed:\n",
    "                    # Second inversion → can't fix with just one change\n",
    "                    return False\n",
    "                changed = True  # Use our one modification\n",
    "                \n",
    "                # Decide which element to adjust\n",
    "                if i == 0 or nums[i - 1] <= nums[i + 1]:\n",
    "                    # Safe to lower nums[i] down to nums[i+1]\n",
    "                    nums[i] = nums[i + 1]\n",
    "                else:\n",
    "                    # Otherwise, raise nums[i+1] up to nums[i]\n",
    "                    nums[i + 1] = nums[i]\n",
    "        \n",
    "        return True\n",
    "\n",
    "if __name__ == \"__main__\":\n",
    "    solution = Solution()\n",
    "    # Each tuple: (input list, expected boolean)\n",
    "    tests = [\n",
    "        ([4, 2, 3], True),     # modify 4 → 2 yields [2,2,3]\n",
    "        ([4, 2, 1], False),    # needs at least two changes\n",
    "        ([3, 4, 2, 3], False), # two separate inversions\n",
    "        ([5, 7, 1, 8], True),  # modify  1 → 7 works\n",
    "    ]\n",
    "\n",
    "    for idx, (nums, expected) in enumerate(tests, 1):\n",
    "        # Copy to avoid modifying the original test case\n",
    "        result = solution.checkPossibility(nums[:])\n",
    "        print(f\"Test case {idx}: nums = {nums} -> {result} (expected {expected})\")\n"
   ]
  },
  {
   "cell_type": "code",
   "execution_count": null,
   "id": "c1b328be-91ad-4ef7-bac3-c6dee5c4c28b",
   "metadata": {},
   "outputs": [],
   "source": []
  }
 ],
 "metadata": {
  "kernelspec": {
   "display_name": "Python 3 (ipykernel)",
   "language": "python",
   "name": "python3"
  },
  "language_info": {
   "codemirror_mode": {
    "name": "ipython",
    "version": 3
   },
   "file_extension": ".py",
   "mimetype": "text/x-python",
   "name": "python",
   "nbconvert_exporter": "python",
   "pygments_lexer": "ipython3",
   "version": "3.10.11"
  }
 },
 "nbformat": 4,
 "nbformat_minor": 5
}
