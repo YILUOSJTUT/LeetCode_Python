{
 "cells": [
  {
   "cell_type": "code",
   "execution_count": 1,
   "id": "242f405d-eff5-48d4-8366-671ef8d129e7",
   "metadata": {},
   "outputs": [
    {
     "name": "stdout",
     "output_type": "stream",
     "text": [
      "Test case 1: flowerbed = [1, 0, 0, 0, 1], n = 1 -> True (expected True)\n",
      "Test case 2: flowerbed = [1, 0, 0, 0, 1], n = 2 -> False (expected False)\n",
      "Test case 3: flowerbed = [0, 0, 1, 0, 0], n = 2 -> True (expected True)\n",
      "Test case 4: flowerbed = [0], n = 1 -> True (expected True)\n",
      "Test case 5: flowerbed = [0, 1, 0], n = 1 -> False (expected False)\n"
     ]
    }
   ],
   "source": [
    "class Solution(object):\n",
    "    def canPlaceFlowers(self, flowerbed, n):\n",
    "        \"\"\"\n",
    "        :param flowerbed: List[int] - The flowerbed array\n",
    "        :param n: int - The number of flowers to plant\n",
    "        :return: bool - True if we can plant n flowers, False otherwise\n",
    "        \"\"\"\n",
    "        count = 0\n",
    "        length = len(flowerbed)\n",
    "    \n",
    "        for i in range(length):\n",
    "            # Only consider planting if current plot is empty\n",
    "            if flowerbed[i] == 0:\n",
    "                # Check that left plot is empty or we're at the start\n",
    "                left_empty = (i == 0 or flowerbed[i - 1] == 0)\n",
    "                # Check that right plot is empty or we're at the end\n",
    "                right_empty = (i == length - 1 or flowerbed[i + 1] == 0)\n",
    "            \n",
    "                if left_empty and right_empty:\n",
    "                    flowerbed[i] = 1       # Plant a flower here\n",
    "                    count += 1             # Increment planted count\n",
    "                \n",
    "                    # Early exit if we've planted enough\n",
    "                    if count >= n:\n",
    "                        return True\n",
    "    \n",
    "        # Final decision: did we reach n?\n",
    "        return count >= n\n",
    "\n",
    "if __name__ == \"__main__\":\n",
    "    solution = Solution()\n",
    "    # Each tuple: (flowerbed array, number of flowers to plant, expected result)\n",
    "    tests = [\n",
    "        ([1, 0, 0, 0, 1], 1, True),\n",
    "        ([1, 0, 0, 0, 1], 2, False),\n",
    "        ([0, 0, 1, 0, 0], 2, True),\n",
    "        ([0], 1, True),\n",
    "        ([0, 1, 0], 1, False)\n",
    "    ]\n",
    "\n",
    "    for idx, (flowerbed, n, expected) in enumerate(tests, 1):\n",
    "        # Use a copy of flowerbed so we don't modify the original test data\n",
    "        result = solution.canPlaceFlowers(flowerbed[:], n)\n",
    "        print(f\"Test case {idx}: flowerbed = {flowerbed}, n = {n} -> {result} (expected {expected})\")\n"
   ]
  },
  {
   "cell_type": "code",
   "execution_count": null,
   "id": "c3aab525-6fe0-480d-b4cb-b25c6ea31aee",
   "metadata": {},
   "outputs": [],
   "source": []
  }
 ],
 "metadata": {
  "kernelspec": {
   "display_name": "Python 3 (ipykernel)",
   "language": "python",
   "name": "python3"
  },
  "language_info": {
   "codemirror_mode": {
    "name": "ipython",
    "version": 3
   },
   "file_extension": ".py",
   "mimetype": "text/x-python",
   "name": "python",
   "nbconvert_exporter": "python",
   "pygments_lexer": "ipython3",
   "version": "3.10.11"
  }
 },
 "nbformat": 4,
 "nbformat_minor": 5
}
