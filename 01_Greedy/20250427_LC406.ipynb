{
 "cells": [
  {
   "cell_type": "markdown",
   "id": "dc35aee7-ca25-455c-a00e-8497b28ce131",
   "metadata": {},
   "source": [
    "# https://leetcode.com/problems/queue-reconstruction-by-height/description/"
   ]
  },
  {
   "cell_type": "code",
   "execution_count": 1,
   "id": "9ef9474b-0e65-48ba-b811-f023f4c94e07",
   "metadata": {},
   "outputs": [
    {
     "name": "stdout",
     "output_type": "stream",
     "text": [
      "Test case 1: people = [[7, 0], [4, 4], [7, 1], [5, 0], [6, 1], [5, 2]] -> reconstructed = [[5, 0], [7, 0], [5, 2], [6, 1], [4, 4], [7, 1]] (expected [[5, 0], [7, 0], [5, 2], [6, 1], [4, 4], [7, 1]])\n",
      "Test case 2: people = [] -> reconstructed = [] (expected [])\n",
      "Test case 3: people = [[6, 0], [5, 0], [4, 0], [3, 2], [2, 2], [1, 4]] -> reconstructed = [[4, 0], [5, 0], [2, 2], [3, 2], [1, 4], [6, 0]] (expected [[4, 0], [5, 0], [2, 2], [3, 2], [1, 4], [6, 0]])\n"
     ]
    }
   ],
   "source": [
    "class Solution(object):\n",
    "    def reconstructQueue(self, people):\n",
    "        \"\"\"\n",
    "        :type people: List[List[int]]  # each element = [height, k]\n",
    "        :rtype: List[List[int]]        # reconstructed queue\n",
    "        \"\"\"\n",
    "        # Sort by descending height, then ascending k\n",
    "        people.sort(key=lambda p: (-p[0], p[1]))\n",
    "        \n",
    "        queue = []\n",
    "        # Insert each person at index k in the queue\n",
    "        for h, k in people:\n",
    "            queue.insert(k, [h, k])  # list.insert shifts following elements to the right\n",
    "        return queue\n",
    "\n",
    "if __name__ == \"__main__\":\n",
    "    solution = Solution()\n",
    "    # Test cases: (input people list, expected output)\n",
    "    tests = [\n",
    "        (\n",
    "            [[7,0],[4,4],[7,1],[5,0],[6,1],[5,2]],\n",
    "            [[5,0],[7,0],[5,2],[6,1],[4,4],[7,1]]\n",
    "        ),\n",
    "        (\n",
    "            [],\n",
    "            []\n",
    "        ),\n",
    "        (\n",
    "            [[6,0],[5,0],[4,0],[3,2],[2,2],[1,4]],\n",
    "            [[4,0],[5,0],[2,2],[3,2],[1,4],[6,0]]\n",
    "        )\n",
    "    ]\n",
    "\n",
    "    for idx, (people, expected) in enumerate(tests, 1):\n",
    "        # Use a copy of people to avoid mutating the test data\n",
    "        result = solution.reconstructQueue(people[:])\n",
    "        print(f\"Test case {idx}: people = {people} -> reconstructed = {result} (expected {expected})\")\n"
   ]
  },
  {
   "cell_type": "code",
   "execution_count": null,
   "id": "575fdb1c-0e55-4530-a351-f8f009e66151",
   "metadata": {},
   "outputs": [],
   "source": []
  }
 ],
 "metadata": {
  "kernelspec": {
   "display_name": "Python 3 (ipykernel)",
   "language": "python",
   "name": "python3"
  },
  "language_info": {
   "codemirror_mode": {
    "name": "ipython",
    "version": 3
   },
   "file_extension": ".py",
   "mimetype": "text/x-python",
   "name": "python",
   "nbconvert_exporter": "python",
   "pygments_lexer": "ipython3",
   "version": "3.10.11"
  }
 },
 "nbformat": 4,
 "nbformat_minor": 5
}
