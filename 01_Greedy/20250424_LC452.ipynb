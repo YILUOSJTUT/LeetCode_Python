{
 "cells": [
  {
   "cell_type": "markdown",
   "id": "d368cccd-e57c-46d3-a355-4c6886b51527",
   "metadata": {},
   "source": [
    "# https://leetcode.com/problems/minimum-number-of-arrows-to-burst-balloons/"
   ]
  },
  {
   "cell_type": "code",
   "execution_count": 1,
   "id": "27f9500e-ebd1-4eec-9093-2078c0519b0e",
   "metadata": {},
   "outputs": [
    {
     "name": "stdout",
     "output_type": "stream",
     "text": [
      "Test case 1: points = [[10, 16], [2, 8], [1, 6], [7, 12]] -> arrows needed = 2 (expected 2)\n",
      "Test case 2: points = [[1, 2], [3, 4], [5, 6], [7, 8]] -> arrows needed = 4 (expected 4)\n",
      "Test case 3: points = [[1, 2], [2, 3], [3, 4], [4, 5]] -> arrows needed = 2 (expected 2)\n",
      "Test case 4: points = [] -> arrows needed = 0 (expected 0)\n",
      "Test case 5: points = [[1, 2]] -> arrows needed = 1 (expected 1)\n"
     ]
    }
   ],
   "source": [
    "class Solution(object):\n",
    "    def findMinArrowShots(self, points):\n",
    "        \"\"\"\n",
    "        :type points: List[List[int]]\n",
    "        :rtype: int\n",
    "        \"\"\"\n",
    "        if not points:\n",
    "            return 0\n",
    "        \n",
    "        # Sort intervals by their right endpoint (greedy choice)\n",
    "        points.sort(key=lambda p: p[1])\n",
    "        \n",
    "        arrows = 1                         # At least one arrow needed\n",
    "        arrow_pos = points[0][1]          # Shoot at the end of the first balloon\n",
    "        \n",
    "        for start, end in points[1:]:\n",
    "            # If this balloon starts after the last arrow position,\n",
    "            # it isn't burst by the same arrow\n",
    "            if start > arrow_pos:\n",
    "                arrows += 1\n",
    "                arrow_pos = end           # Shoot a new arrow here\n",
    "        \n",
    "        return arrows\n",
    "\n",
    "if __name__ == \"__main__\":\n",
    "    solution = Solution()\n",
    "    # Each tuple: (list of [start, end] intervals, expected number of arrows)\n",
    "    tests = [\n",
    "        ([[10,16], [2,8], [1,6], [7,12]], 2),     # overlapping intervals -> 2 arrows\n",
    "        ([[1,2], [3,4], [5,6], [7,8]], 4),        # no overlaps -> 4 arrows\n",
    "        ([[1,2], [2,3], [3,4], [4,5]], 2),        # touching endpoints -> 2 arrows\n",
    "        ([], 0),                                  # empty list -> 0 arrows\n",
    "        ([[1,2]], 1)                              # single balloon -> 1 arrow\n",
    "    ]\n",
    "\n",
    "    for idx, (points, expected) in enumerate(tests, 1):\n",
    "        # Pass a shallow copy so we don't mutate the original test data\n",
    "        result = solution.findMinArrowShots(points[:])\n",
    "        print(f\"Test case {idx}: points = {points} -> arrows needed = {result} (expected {expected})\")\n"
   ]
  },
  {
   "cell_type": "code",
   "execution_count": null,
   "id": "ad85846a-19a7-4fe4-819b-2e0be29a99f9",
   "metadata": {},
   "outputs": [],
   "source": []
  }
 ],
 "metadata": {
  "kernelspec": {
   "display_name": "Python 3 (ipykernel)",
   "language": "python",
   "name": "python3"
  },
  "language_info": {
   "codemirror_mode": {
    "name": "ipython",
    "version": 3
   },
   "file_extension": ".py",
   "mimetype": "text/x-python",
   "name": "python",
   "nbconvert_exporter": "python",
   "pygments_lexer": "ipython3",
   "version": "3.10.11"
  }
 },
 "nbformat": 4,
 "nbformat_minor": 5
}
