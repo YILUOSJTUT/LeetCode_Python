{
 "cells": [
  {
   "cell_type": "markdown",
   "id": "9e0092f7-8530-4afd-9cdf-a85aaf3d96e4",
   "metadata": {},
   "source": [
    "# https://leetcode.com/problems/best-time-to-buy-and-sell-stock-ii/"
   ]
  },
  {
   "cell_type": "code",
   "execution_count": 1,
   "id": "a06e87b7-9691-4937-ad3d-db066d510495",
   "metadata": {},
   "outputs": [
    {
     "name": "stdout",
     "output_type": "stream",
     "text": [
      "Test case 1: prices = [7, 1, 5, 3, 6, 4] -> maxProfit = 7 (expected 7)\n",
      "Test case 2: prices = [1, 2, 3, 4, 5] -> maxProfit = 4 (expected 4)\n",
      "Test case 3: prices = [7, 6, 4, 3, 1] -> maxProfit = 0 (expected 0)\n",
      "Test case 4: prices = [1] -> maxProfit = 0 (expected 0)\n"
     ]
    }
   ],
   "source": [
    "class Solution(object):\n",
    "    def maxProfit(self, prices):\n",
    "        \"\"\"\n",
    "        :type prices: List[int]\n",
    "        :rtype: int\n",
    "        \"\"\"\n",
    "        profit = 0\n",
    "        # Traverse once, adding only positive gains\n",
    "        for i in range(1, len(prices)):\n",
    "            diff = prices[i] - prices[i - 1]\n",
    "            if diff > 0:           # If today’s price is higher than yesterday’s\n",
    "                profit += diff     # capture that profit\n",
    "        return profit\n",
    "\n",
    "if __name__ == \"__main__\":\n",
    "    solution = Solution()\n",
    "    # Each tuple: (price list, expected max profit)\n",
    "    tests = [\n",
    "        ([7, 1, 5, 3, 6, 4], 7),  # buy at 1 sell at 5 (profit 4), buy at 3 sell at 6 (profit 3)\n",
    "        ([1, 2, 3, 4, 5], 4),     # buy at 1 sell at 5 across daily gains\n",
    "        ([7, 6, 4, 3, 1], 0),     # no upward moves, no profit\n",
    "        ([1], 0),                 # only one day, no transactions possible\n",
    "    ]\n",
    "\n",
    "    for idx, (prices, expected) in enumerate(tests, 1):\n",
    "        result = solution.maxProfit(prices)\n",
    "        print(f\"Test case {idx}: prices = {prices} -> maxProfit = {result} (expected {expected})\")\n"
   ]
  },
  {
   "cell_type": "code",
   "execution_count": null,
   "id": "4506c8c5-fca7-4501-be18-bfdc5cda76d2",
   "metadata": {},
   "outputs": [],
   "source": []
  }
 ],
 "metadata": {
  "kernelspec": {
   "display_name": "Python 3 (ipykernel)",
   "language": "python",
   "name": "python3"
  },
  "language_info": {
   "codemirror_mode": {
    "name": "ipython",
    "version": 3
   },
   "file_extension": ".py",
   "mimetype": "text/x-python",
   "name": "python",
   "nbconvert_exporter": "python",
   "pygments_lexer": "ipython3",
   "version": "3.10.11"
  }
 },
 "nbformat": 4,
 "nbformat_minor": 5
}
