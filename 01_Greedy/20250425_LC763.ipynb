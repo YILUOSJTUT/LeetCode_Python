{
 "cells": [
  {
   "cell_type": "markdown",
   "id": "045963b5-1ed2-44d1-bb95-92f42564e220",
   "metadata": {},
   "source": [
    "# https://leetcode.com/problems/partition-labels/"
   ]
  },
  {
   "cell_type": "code",
   "execution_count": 1,
   "id": "c6947e6c-d6a7-414f-8591-ac87da9c118d",
   "metadata": {},
   "outputs": [
    {
     "name": "stdout",
     "output_type": "stream",
     "text": [
      "Test case 1: s = \"ababcbacadefegdehijhklij\" -> [9, 7, 8] (expected [9, 7, 8])\n",
      "Test case 2: s = \"eccbbbbdec\" -> [10] (expected [10])\n",
      "Test case 3: s = \"qwertqwe\" -> [8] (expected [8])\n"
     ]
    }
   ],
   "source": [
    "class Solution(object):\n",
    "    def partitionLabels(self, s):\n",
    "        \"\"\"\n",
    "        :type s: str\n",
    "        :rtype: List[int]\n",
    "        \"\"\"\n",
    "        # Record the last index of each character\n",
    "        last = {ch: i for i, ch in enumerate(s)}\n",
    "        \n",
    "        res = []                # List to hold partition lengths\n",
    "        start = end = 0         # Current partition start and end\n",
    "        \n",
    "        # Scan through the string\n",
    "        for i, ch in enumerate(s):\n",
    "            # Extend the end to the farthest last-occurrence of ch\n",
    "            end = max(end, last[ch])\n",
    "            # If we've reached the end of the current partition\n",
    "            if i == end:\n",
    "                # Append its length and start a new one\n",
    "                res.append(end - start + 1)\n",
    "                start = i + 1\n",
    "        \n",
    "        return res\n",
    "\n",
    "if __name__ == \"__main__\":\n",
    "    solution = Solution()\n",
    "    # Each tuple: (input string, expected partition list)\n",
    "    tests = [\n",
    "        (\"ababcbacadefegdehijhklij\", [9, 7, 8]),\n",
    "        (\"eccbbbbdec\",               [10]),\n",
    "        (\"qwertqwe\",                 [8])  # all letters overlap, so one partition\n",
    "    ]\n",
    "\n",
    "    for idx, (s, expected) in enumerate(tests, 1):\n",
    "        result = solution.partitionLabels(s)\n",
    "        print(f\"Test case {idx}: s = \\\"{s}\\\" -> {result} (expected {expected})\")\n"
   ]
  },
  {
   "cell_type": "code",
   "execution_count": null,
   "id": "ee3a8cb4-e3a5-4568-a73b-fac74b7f0e58",
   "metadata": {},
   "outputs": [],
   "source": []
  }
 ],
 "metadata": {
  "kernelspec": {
   "display_name": "Python 3 (ipykernel)",
   "language": "python",
   "name": "python3"
  },
  "language_info": {
   "codemirror_mode": {
    "name": "ipython",
    "version": 3
   },
   "file_extension": ".py",
   "mimetype": "text/x-python",
   "name": "python",
   "nbconvert_exporter": "python",
   "pygments_lexer": "ipython3",
   "version": "3.10.11"
  }
 },
 "nbformat": 4,
 "nbformat_minor": 5
}
