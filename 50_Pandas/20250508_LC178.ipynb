{
 "cells": [
  {
   "cell_type": "code",
   "execution_count": 2,
   "id": "4b092b57-dc18-4759-bfe5-337e1fb8214e",
   "metadata": {},
   "outputs": [],
   "source": [
    "# https://leetcode.com/problems/rank-scores/description/"
   ]
  },
  {
   "cell_type": "code",
   "execution_count": 1,
   "id": "11aa2afe-2740-48d8-a1b5-1751d5b2b36c",
   "metadata": {},
   "outputs": [
    {
     "name": "stdout",
     "output_type": "stream",
     "text": [
      "   score  rank\n",
      "2   4.00     1\n",
      "4   4.00     1\n",
      "3   3.85     2\n",
      "1   3.65     3\n",
      "5   3.65     3\n",
      "0   3.50     4\n"
     ]
    }
   ],
   "source": [
    "import pandas as pd\n",
    "\n",
    "def order_scores(scores: pd.DataFrame) -> pd.DataFrame:\n",
    "    \"\"\"\n",
    "    Calculate and assign a dense rank to each score (highest score → rank 1),\n",
    "    then return the table sorted by score descending with columns 'score' and 'rank'.\n",
    "    \"\"\"\n",
    "    scores = scores.copy()\n",
    "    scores['rank'] = scores['score'].rank(method='dense', ascending=False).astype(int)\n",
    "    scores = scores.sort_values(by='score', ascending=False)\n",
    "    return scores[['score', 'rank']]\n",
    "\n",
    "# Example 1 data\n",
    "df = pd.DataFrame({\n",
    "    'id':    [1, 2, 3, 4, 5, 6],\n",
    "    'score': [3.50, 3.65, 4.00, 3.85, 4.00, 3.65]\n",
    "})\n",
    "\n",
    "result_df = order_scores(df)\n",
    "print(result_df)\n"
   ]
  },
  {
   "cell_type": "code",
   "execution_count": null,
   "id": "42937037-5d8b-4a7f-b5be-08b883fc9894",
   "metadata": {},
   "outputs": [],
   "source": []
  }
 ],
 "metadata": {
  "kernelspec": {
   "display_name": "Python 3 (ipykernel)",
   "language": "python",
   "name": "python3"
  },
  "language_info": {
   "codemirror_mode": {
    "name": "ipython",
    "version": 3
   },
   "file_extension": ".py",
   "mimetype": "text/x-python",
   "name": "python",
   "nbconvert_exporter": "python",
   "pygments_lexer": "ipython3",
   "version": "3.10.11"
  }
 },
 "nbformat": 4,
 "nbformat_minor": 5
}
