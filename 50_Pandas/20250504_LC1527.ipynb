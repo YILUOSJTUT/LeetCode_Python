{
 "cells": [
  {
   "cell_type": "code",
   "execution_count": 1,
   "id": "9c04fd6d-6a02-4a7c-b3f0-24cf60ef0165",
   "metadata": {},
   "outputs": [
    {
     "name": "stdout",
     "output_type": "stream",
     "text": [
      "   patient_id patient_name    conditions\n",
      "2           3          Bob  DIAB100 MYOP\n",
      "3           4       George  ACNE DIAB100\n"
     ]
    }
   ],
   "source": [
    "import pandas as pd\n",
    "\n",
    "def find_patients(patients: pd.DataFrame) -> pd.DataFrame:\n",
    "    \"\"\"\n",
    "    Return patients whose conditions include a code starting with 'DIAB1'\n",
    "    at the beginning of a word.\n",
    "    \"\"\"\n",
    "    condition_pattern = r'(?<![^\\s])DIAB1\\w*\\b'\n",
    "    valid_patients = patients[\n",
    "        patients[\"conditions\"].str.contains(condition_pattern, regex=True, na=False)\n",
    "    ]\n",
    "    return valid_patients[[\"patient_id\", \"patient_name\", \"conditions\"]]\n",
    "\n",
    "# Example 1 data\n",
    "data = [\n",
    "    {\"patient_id\": 1, \"patient_name\": \"Daniel\", \"conditions\": \"YFEV COUGH\"},\n",
    "    {\"patient_id\": 2, \"patient_name\": \"Alice\",  \"conditions\": \"\"},\n",
    "    {\"patient_id\": 3, \"patient_name\": \"Bob\",    \"conditions\": \"DIAB100 MYOP\"},\n",
    "    {\"patient_id\": 4, \"patient_name\": \"George\", \"conditions\": \"ACNE DIAB100\"},\n",
    "    {\"patient_id\": 5, \"patient_name\": \"Alain\",  \"conditions\": \"DIAB201\"},\n",
    "]\n",
    "patients_df = pd.DataFrame(data)\n",
    "\n",
    "# Run the function\n",
    "result_df = find_patients(patients_df)\n",
    "print(result_df)\n"
   ]
  },
  {
   "cell_type": "code",
   "execution_count": null,
   "id": "1dfdd3ff-6f2c-4ce6-973d-c784910f8e80",
   "metadata": {},
   "outputs": [],
   "source": []
  }
 ],
 "metadata": {
  "kernelspec": {
   "display_name": "Python 3 (ipykernel)",
   "language": "python",
   "name": "python3"
  },
  "language_info": {
   "codemirror_mode": {
    "name": "ipython",
    "version": 3
   },
   "file_extension": ".py",
   "mimetype": "text/x-python",
   "name": "python",
   "nbconvert_exporter": "python",
   "pygments_lexer": "ipython3",
   "version": "3.10.11"
  }
 },
 "nbformat": 4,
 "nbformat_minor": 5
}
