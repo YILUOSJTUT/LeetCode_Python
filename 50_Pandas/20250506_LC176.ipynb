{
 "cells": [
  {
   "cell_type": "code",
   "execution_count": 2,
   "id": "4ef2346d-c09f-4e9c-a684-38736a6fcc75",
   "metadata": {},
   "outputs": [],
   "source": [
    "# https://leetcode.com/problems/second-highest-salary/description/"
   ]
  },
  {
   "cell_type": "code",
   "execution_count": 1,
   "id": "81113496-b8ad-452c-9f0e-a695b992d3af",
   "metadata": {},
   "outputs": [
    {
     "name": "stdout",
     "output_type": "stream",
     "text": [
      "Example 1 result:\n",
      "   SecondHighestSalary\n",
      "0                  200\n",
      "\n",
      "Example 2 result:\n",
      "  SecondHighestSalary\n",
      "0                None\n"
     ]
    }
   ],
   "source": [
    "import pandas as pd\n",
    "\n",
    "def second_highest_salary(employee: pd.DataFrame) -> pd.DataFrame:\n",
    "    \"\"\"\n",
    "    Return the second highest distinct salary, or None if it doesn't exist.\n",
    "    \"\"\"\n",
    "    # 1. Drop duplicates and sort salaries descending\n",
    "    distinct_salaries = (\n",
    "        employee[\"salary\"]\n",
    "        .drop_duplicates()\n",
    "        .sort_values(ascending=False)\n",
    "        .reset_index(drop=True)\n",
    "    )\n",
    "    # 2. Pick the second item if available\n",
    "    if len(distinct_salaries) < 2:\n",
    "        second = None\n",
    "    else:\n",
    "        second = distinct_salaries.iloc[1]\n",
    "    # 3. Return a DataFrame with the required column name\n",
    "    return pd.DataFrame({\"SecondHighestSalary\": [second]})\n",
    "\n",
    "if __name__ == \"__main__\":\n",
    "    # Example 1\n",
    "    df1 = pd.DataFrame({\n",
    "        \"id\":     [1, 2, 3],\n",
    "        \"salary\": [100, 200, 300]\n",
    "    })\n",
    "    print(\"Example 1 result:\")\n",
    "    print(second_highest_salary(df1))  # Expected: 200\n",
    "\n",
    "    # Example 2\n",
    "    df2 = pd.DataFrame({\n",
    "        \"id\":     [1],\n",
    "        \"salary\": [100]\n",
    "    })\n",
    "    print(\"\\nExample 2 result:\")\n",
    "    print(second_highest_salary(df2))  # Expected: None (null)\n"
   ]
  },
  {
   "cell_type": "code",
   "execution_count": null,
   "id": "96fba863-0e0c-4b15-996f-0a52fe3c017e",
   "metadata": {},
   "outputs": [],
   "source": []
  }
 ],
 "metadata": {
  "kernelspec": {
   "display_name": "Python 3 (ipykernel)",
   "language": "python",
   "name": "python3"
  },
  "language_info": {
   "codemirror_mode": {
    "name": "ipython",
    "version": 3
   },
   "file_extension": ".py",
   "mimetype": "text/x-python",
   "name": "python",
   "nbconvert_exporter": "python",
   "pygments_lexer": "ipython3",
   "version": "3.10.11"
  }
 },
 "nbformat": 4,
 "nbformat_minor": 5
}
