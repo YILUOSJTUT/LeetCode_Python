{
 "cells": [
  {
   "cell_type": "markdown",
   "id": "19e1170f-4038-46f0-b74c-82ffa1bcc4e8",
   "metadata": {},
   "source": [
    "# https://leetcode.com/problems/recyclable-and-low-fat-products/description/"
   ]
  },
  {
   "cell_type": "code",
   "execution_count": 1,
   "id": "046e4959-acc7-45ab-b1b7-5edc682a1fd5",
   "metadata": {},
   "outputs": [
    {
     "name": "stdout",
     "output_type": "stream",
     "text": [
      "   product_id\n",
      "1           1\n",
      "3           3\n"
     ]
    }
   ],
   "source": [
    "import pandas as pd\n",
    "\n",
    "def find_products(products: pd.DataFrame) -> pd.DataFrame:\n",
    "    \"\"\"\n",
    "    This function returns only the product_id of products that are both low fat and recyclable.\n",
    "\n",
    "    Example 1:\n",
    "    Input (Products table):\n",
    "        product_id | low_fats | recyclable\n",
    "        ---------------------------------\n",
    "        0          | Y        | N\n",
    "        1          | Y        | Y\n",
    "        2          | N        | Y\n",
    "        3          | Y        | Y\n",
    "        4          | N        | N\n",
    "\n",
    "    Output:\n",
    "        product_id\n",
    "        ----------\n",
    "        1\n",
    "        3\n",
    "\n",
    "    Explanation:\n",
    "    Only products 1 and 3 have both low_fats = 'Y' and recyclable = 'Y'.\n",
    "    \"\"\"\n",
    "    # Filter rows where low_fats == 'Y' AND recyclable == 'Y', then select product_id\n",
    "    result = products[\n",
    "        (products[\"low_fats\"] == \"Y\") &\n",
    "        (products[\"recyclable\"] == \"Y\")\n",
    "    ][[\"product_id\"]]\n",
    "    return result\n",
    "\n",
    "if __name__ == \"__main__\":\n",
    "    # Construct the example DataFrame\n",
    "    data = [\n",
    "        {\"product_id\": 0, \"low_fats\": \"Y\", \"recyclable\": \"N\"},\n",
    "        {\"product_id\": 1, \"low_fats\": \"Y\", \"recyclable\": \"Y\"},\n",
    "        {\"product_id\": 2, \"low_fats\": \"N\", \"recyclable\": \"Y\"},\n",
    "        {\"product_id\": 3, \"low_fats\": \"Y\", \"recyclable\": \"Y\"},\n",
    "        {\"product_id\": 4, \"low_fats\": \"N\", \"recyclable\": \"N\"},\n",
    "    ]\n",
    "    df_products = pd.DataFrame(data)\n",
    "\n",
    "    # Run the function and print the result\n",
    "    result = find_products(df_products)\n",
    "    print(result)\n",
    "\n",
    "    # Expected output:\n",
    "    #    product_id\n",
    "    # 1           1\n",
    "    # 3           3\n"
   ]
  },
  {
   "cell_type": "code",
   "execution_count": null,
   "id": "97a9b6fb-a408-4de7-8d85-48d035ca6004",
   "metadata": {},
   "outputs": [],
   "source": []
  }
 ],
 "metadata": {
  "kernelspec": {
   "display_name": "Python 3 (ipykernel)",
   "language": "python",
   "name": "python3"
  },
  "language_info": {
   "codemirror_mode": {
    "name": "ipython",
    "version": 3
   },
   "file_extension": ".py",
   "mimetype": "text/x-python",
   "name": "python",
   "nbconvert_exporter": "python",
   "pygments_lexer": "ipython3",
   "version": "3.10.11"
  }
 },
 "nbformat": 4,
 "nbformat_minor": 5
}
