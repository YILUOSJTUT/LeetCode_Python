{
 "cells": [
  {
   "cell_type": "code",
   "execution_count": null,
   "id": "2a73021a-8a07-40c1-b789-941cbb50b972",
   "metadata": {},
   "outputs": [],
   "source": [
    "# https://leetcode.com/problems/customers-who-never-order/description/"
   ]
  },
  {
   "cell_type": "code",
   "execution_count": 1,
   "id": "af29cd22-aed8-43fb-b32a-d248213e35b1",
   "metadata": {},
   "outputs": [
    {
     "name": "stdout",
     "output_type": "stream",
     "text": [
      "  Customers\n",
      "1     Henry\n",
      "3       Max\n"
     ]
    }
   ],
   "source": [
    "import pandas as pd\n",
    "\n",
    "def find_customers(customers: pd.DataFrame, orders: pd.DataFrame) -> pd.DataFrame:\n",
    "    \"\"\"\n",
    "    This function returns all customers who never place any orders.\n",
    "\n",
    "    Example 1:\n",
    "    Input:\n",
    "        Customers table:\n",
    "            id | name\n",
    "            ---+------\n",
    "             1  | Joe\n",
    "             2  | Henry\n",
    "             3  | Sam\n",
    "             4  | Max\n",
    "\n",
    "        Orders table:\n",
    "            id | customerId\n",
    "            ---+------------\n",
    "             1  | 3\n",
    "             2  | 1\n",
    "\n",
    "    Output:\n",
    "        Customers\n",
    "        ---------\n",
    "        Henry\n",
    "        Max\n",
    "\n",
    "    Explanation:\n",
    "    Customers with id 2 (Henry) and 4 (Max) never appear in Orders.customerId.\n",
    "    \"\"\"\n",
    "    # Keep only those customers whose 'id' is not in the 'customerId' column of orders\n",
    "    no_order = customers[~customers['id'].isin(orders['customerId'])]\n",
    "    # Select the 'name' column and rename it to 'Customers'\n",
    "    result = no_order[['name']].rename(columns={'name': 'Customers'})\n",
    "    return result\n",
    "\n",
    "if __name__ == \"__main__\":\n",
    "    # Construct example DataFrames\n",
    "    customers_df = pd.DataFrame([\n",
    "        {\"id\": 1, \"name\": \"Joe\"},\n",
    "        {\"id\": 2, \"name\": \"Henry\"},\n",
    "        {\"id\": 3, \"name\": \"Sam\"},\n",
    "        {\"id\": 4, \"name\": \"Max\"},\n",
    "    ])\n",
    "    orders_df = pd.DataFrame([\n",
    "        {\"id\": 1, \"customerId\": 3},\n",
    "        {\"id\": 2, \"customerId\": 1},\n",
    "    ])\n",
    "\n",
    "    # Run the function and print the result\n",
    "    result = find_customers(customers_df, orders_df)\n",
    "    print(result)\n",
    "    # Expected output:\n",
    "    #   Customers\n",
    "    # 0     Henry\n",
    "    # 1       Max\n"
   ]
  },
  {
   "cell_type": "code",
   "execution_count": null,
   "id": "89491d29-c3b3-46bf-927e-7d4a111cb3a6",
   "metadata": {},
   "outputs": [],
   "source": []
  }
 ],
 "metadata": {
  "kernelspec": {
   "display_name": "Python 3 (ipykernel)",
   "language": "python",
   "name": "python3"
  },
  "language_info": {
   "codemirror_mode": {
    "name": "ipython",
    "version": 3
   },
   "file_extension": ".py",
   "mimetype": "text/x-python",
   "name": "python",
   "nbconvert_exporter": "python",
   "pygments_lexer": "ipython3",
   "version": "3.10.11"
  }
 },
 "nbformat": 4,
 "nbformat_minor": 5
}
