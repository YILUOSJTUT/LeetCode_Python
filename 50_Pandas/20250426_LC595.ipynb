{
 "cells": [
  {
   "cell_type": "markdown",
   "id": "9aa804b3-e679-4a9c-a0b0-e836f07e2518",
   "metadata": {},
   "source": [
    "# https://leetcode.com/problems/big-countries/description/"
   ]
  },
  {
   "cell_type": "code",
   "execution_count": 1,
   "id": "032246a9-20d7-4ba8-b7f2-58e4896df629",
   "metadata": {},
   "outputs": [
    {
     "name": "stdout",
     "output_type": "stream",
     "text": [
      "          name  population     area\n",
      "0  Afghanistan    25500100   652230\n",
      "2      Algeria    37100000  2381741\n"
     ]
    }
   ],
   "source": [
    "import pandas as pd\n",
    "\n",
    "def big_countries(countries: pd.DataFrame) -> pd.DataFrame:\n",
    "    \"\"\"\n",
    "    Filter countries with area >= 3,000,000 OR population >= 25,000,000,\n",
    "    then select only 'name', 'population', 'area', and sort by 'name' ascending.\n",
    "\n",
    "    Example 1:\n",
    "    Input (World table):\n",
    "        name         continent  area     population     gdp\n",
    "        ---------------------------------------------------\n",
    "        Afghanistan  Asia       652230   25500100       20343000000\n",
    "        Albania      Europe      28748    2831741       12960000000\n",
    "        Algeria      Africa    2381741   37100000      188681000000\n",
    "        Andorra      Europe        468      78115        3712000000\n",
    "        Angola       Africa    1246700   20609294       100990000000\n",
    "\n",
    "    Output:\n",
    "        name         population   area\n",
    "        --------------------------------\n",
    "        Afghanistan  25500100     652230\n",
    "        Algeria      37100000    2381741\n",
    "    \"\"\"\n",
    "    # 1. Filter by area or population\n",
    "    filtered = countries[\n",
    "        (countries[\"area\"] >= 3_000_000) |\n",
    "        (countries[\"population\"] >= 25_000_000)\n",
    "    ]\n",
    "    # 2. Select required columns\n",
    "    selected = filtered[[\"name\", \"population\", \"area\"]]\n",
    "    # 3. Sort by country name\n",
    "    return selected.sort_values(\"name\")\n",
    "\n",
    "if __name__ == \"__main__\":\n",
    "    # Example 1: construct the World table as a DataFrame\n",
    "    world_data = [\n",
    "        {\"name\": \"Afghanistan\", \"continent\": \"Asia\",   \"area\": 652230,  \"population\": 25500100,  \"gdp\": 20343000000},\n",
    "        {\"name\": \"Albania\",     \"continent\": \"Europe\", \"area\": 28748,   \"population\": 2831741,   \"gdp\": 12960000000},\n",
    "        {\"name\": \"Algeria\",     \"continent\": \"Africa\", \"area\": 2381741, \"population\": 37100000,  \"gdp\": 188681000000},\n",
    "        {\"name\": \"Andorra\",     \"continent\": \"Europe\", \"area\": 468,     \"population\": 78115,     \"gdp\": 3712000000},\n",
    "        {\"name\": \"Angola\",      \"continent\": \"Africa\", \"area\": 1246700, \"population\": 20609294,  \"gdp\": 100990000000},\n",
    "    ]\n",
    "    df_world = pd.DataFrame(world_data)\n",
    "\n",
    "    # Run the function and display the result\n",
    "    result = big_countries(df_world)\n",
    "    print(result)\n",
    "    # Expected output:\n",
    "    #         name  population     area\n",
    "    # 0  Afghanistan   25500100   652230\n",
    "    # 2      Algeria   37100000  2381741\n"
   ]
  },
  {
   "cell_type": "code",
   "execution_count": null,
   "id": "e1ee4597-9c6a-420b-bfdb-914c4a801bc6",
   "metadata": {},
   "outputs": [],
   "source": []
  }
 ],
 "metadata": {
  "kernelspec": {
   "display_name": "Python 3 (ipykernel)",
   "language": "python",
   "name": "python3"
  },
  "language_info": {
   "codemirror_mode": {
    "name": "ipython",
    "version": 3
   },
   "file_extension": ".py",
   "mimetype": "text/x-python",
   "name": "python",
   "nbconvert_exporter": "python",
   "pygments_lexer": "ipython3",
   "version": "3.10.11"
  }
 },
 "nbformat": 4,
 "nbformat_minor": 5
}
