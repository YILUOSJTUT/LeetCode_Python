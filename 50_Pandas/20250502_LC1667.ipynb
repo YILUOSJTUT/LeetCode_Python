{
 "cells": [
  {
   "cell_type": "code",
   "execution_count": 2,
   "id": "bec30650-1498-4a9c-a084-0553e0f93834",
   "metadata": {},
   "outputs": [],
   "source": [
    "# https://leetcode.com/problems/fix-names-in-a-table/description/"
   ]
  },
  {
   "cell_type": "code",
   "execution_count": 1,
   "id": "568a4447-8ac9-4791-b4b7-c4055c777d2b",
   "metadata": {},
   "outputs": [
    {
     "name": "stdout",
     "output_type": "stream",
     "text": [
      "   user_id   name\n",
      "0        1  Alice\n",
      "1        2    Bob\n"
     ]
    }
   ],
   "source": [
    "import pandas as pd\n",
    "\n",
    "def fix_names(users: pd.DataFrame) -> pd.DataFrame:\n",
    "    \"\"\"\n",
    "    Standardize names: lowercase all letters, then capitalize the first letter.\n",
    "    Sort the DataFrame by 'user_id'.\n",
    "    \"\"\"\n",
    "    users = users.copy()\n",
    "    users[\"name\"] = users[\"name\"].str.lower().str.capitalize()\n",
    "    return users.sort_values(by=\"user_id\")\n",
    "\n",
    "# Example 1 data\n",
    "users_data = [\n",
    "    {\"user_id\": 1, \"name\": \"aLice\"},\n",
    "    {\"user_id\": 2, \"name\": \"bOB\"},\n",
    "]\n",
    "users_df = pd.DataFrame(users_data)\n",
    "\n",
    "# Apply the function\n",
    "result_df = fix_names(users_df)\n",
    "\n",
    "# Print the result\n",
    "print(result_df)\n"
   ]
  },
  {
   "cell_type": "code",
   "execution_count": null,
   "id": "7ac1ab80-7943-4584-be5c-8bee7fe9c933",
   "metadata": {},
   "outputs": [],
   "source": []
  }
 ],
 "metadata": {
  "kernelspec": {
   "display_name": "Python 3 (ipykernel)",
   "language": "python",
   "name": "python3"
  },
  "language_info": {
   "codemirror_mode": {
    "name": "ipython",
    "version": 3
   },
   "file_extension": ".py",
   "mimetype": "text/x-python",
   "name": "python",
   "nbconvert_exporter": "python",
   "pygments_lexer": "ipython3",
   "version": "3.10.11"
  }
 },
 "nbformat": 4,
 "nbformat_minor": 5
}
