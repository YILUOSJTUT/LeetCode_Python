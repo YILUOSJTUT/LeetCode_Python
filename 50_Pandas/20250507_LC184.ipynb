{
 "cells": [
  {
   "cell_type": "code",
   "execution_count": 2,
   "id": "be332f71-8063-4e81-9b6c-9123614a8b42",
   "metadata": {},
   "outputs": [],
   "source": [
    "# https://leetcode.com/problems/department-highest-salary/description/"
   ]
  },
  {
   "cell_type": "code",
   "execution_count": 1,
   "id": "3abb1ee5-a921-42be-accd-57800f0b6db5",
   "metadata": {},
   "outputs": [
    {
     "name": "stdout",
     "output_type": "stream",
     "text": [
      "  Department Employee  Salary\n",
      "1         IT      Jim   90000\n",
      "2      Sales    Henry   80000\n",
      "4         IT      Max   90000\n"
     ]
    }
   ],
   "source": [
    "import pandas as pd\n",
    "\n",
    "def department_highest_salary(employee: pd.DataFrame, department: pd.DataFrame) -> pd.DataFrame:\n",
    "    \"\"\"\n",
    "    Find employees who have the highest salary in each department.\n",
    "    \"\"\"\n",
    "    # Merge tables on departmentId == id\n",
    "    merged = employee.merge(\n",
    "        department,\n",
    "        left_on=\"departmentId\",\n",
    "        right_on=\"id\",\n",
    "        suffixes=(\"_emp\", \"_dept\")\n",
    "    )\n",
    "    # Compute max salary per department\n",
    "    merged[\"max_salary\"] = merged.groupby(\"departmentId\")[\"salary\"].transform(\"max\")\n",
    "    # Filter to top earners\n",
    "    top_earners = merged[merged[\"salary\"] == merged[\"max_salary\"]]\n",
    "    # Select and rename columns\n",
    "    result = top_earners[[\"name_dept\", \"name_emp\", \"salary\"]].rename(\n",
    "        columns={\n",
    "            \"name_dept\": \"Department\",\n",
    "            \"name_emp\": \"Employee\",\n",
    "            \"salary\": \"Salary\"\n",
    "        }\n",
    "    )\n",
    "    return result\n",
    "\n",
    "# Example 1 data\n",
    "employee_df = pd.DataFrame([\n",
    "    {\"id\": 1, \"name\": \"Joe\",   \"salary\": 70000, \"departmentId\": 1},\n",
    "    {\"id\": 2, \"name\": \"Jim\",   \"salary\": 90000, \"departmentId\": 1},\n",
    "    {\"id\": 3, \"name\": \"Henry\", \"salary\": 80000, \"departmentId\": 2},\n",
    "    {\"id\": 4, \"name\": \"Sam\",   \"salary\": 60000, \"departmentId\": 2},\n",
    "    {\"id\": 5, \"name\": \"Max\",   \"salary\": 90000, \"departmentId\": 1},\n",
    "])\n",
    "department_df = pd.DataFrame([\n",
    "    {\"id\": 1, \"name\": \"IT\"},\n",
    "    {\"id\": 2, \"name\": \"Sales\"},\n",
    "])\n",
    "\n",
    "# Rename department columns for merge to keep name_dept, name_emp\n",
    "employee_df = employee_df.rename(columns={\"name\": \"name_emp\"})\n",
    "department_df = department_df.rename(columns={\"name\": \"name_dept\"})\n",
    "\n",
    "result_df = department_highest_salary(employee_df, department_df)\n",
    "print(result_df)\n"
   ]
  },
  {
   "cell_type": "code",
   "execution_count": null,
   "id": "b393a989-4e2f-48c9-973d-d7768d7e6351",
   "metadata": {},
   "outputs": [],
   "source": []
  }
 ],
 "metadata": {
  "kernelspec": {
   "display_name": "Python 3 (ipykernel)",
   "language": "python",
   "name": "python3"
  },
  "language_info": {
   "codemirror_mode": {
    "name": "ipython",
    "version": 3
   },
   "file_extension": ".py",
   "mimetype": "text/x-python",
   "name": "python",
   "nbconvert_exporter": "python",
   "pygments_lexer": "ipython3",
   "version": "3.10.11"
  }
 },
 "nbformat": 4,
 "nbformat_minor": 5
}
