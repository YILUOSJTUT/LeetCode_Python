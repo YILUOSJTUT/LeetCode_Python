{
 "cells": [
  {
   "cell_type": "code",
   "execution_count": 2,
   "id": "0c3e9c78-026d-4e91-bba7-01fa242239e6",
   "metadata": {},
   "outputs": [],
   "source": [
    "# https://leetcode.com/problems/find-users-with-valid-e-mails/description/"
   ]
  },
  {
   "cell_type": "code",
   "execution_count": 1,
   "id": "ecaca594-d09d-4928-8112-7e9e828a0741",
   "metadata": {},
   "outputs": [
    {
     "name": "stdout",
     "output_type": "stream",
     "text": [
      "   user_id       name                     mail\n",
      "0        1    Winston     winston@leetcode.com\n",
      "2        3  Annabelle      bella-@leetcode.com\n",
      "3        4      Sally  sally.come@leetcode.com\n"
     ]
    }
   ],
   "source": [
    "import pandas as pd\n",
    "\n",
    "def valid_emails(users: pd.DataFrame) -> pd.DataFrame:\n",
    "    email_pattern = r'^[a-zA-Z][a-zA-Z0-9._-]*@leetcode\\.com$'\n",
    "    return users[users[\"mail\"].str.match(email_pattern, na=False)]\n",
    "\n",
    "# Example 1 data\n",
    "users_data = [\n",
    "    {\"user_id\": 1, \"name\": \"Winston\",   \"mail\": \"winston@leetcode.com\"},\n",
    "    {\"user_id\": 2, \"name\": \"Jonathan\",  \"mail\": \"jonathanisgreat\"},\n",
    "    {\"user_id\": 3, \"name\": \"Annabelle\", \"mail\": \"bella-@leetcode.com\"},\n",
    "    {\"user_id\": 4, \"name\": \"Sally\",     \"mail\": \"sally.come@leetcode.com\"},\n",
    "    {\"user_id\": 5, \"name\": \"Marwan\",    \"mail\": \"quarz#2020@leetcode.com\"},\n",
    "    {\"user_id\": 6, \"name\": \"David\",     \"mail\": \"david69@gmail.com\"},\n",
    "    {\"user_id\": 7, \"name\": \"Shapiro\",   \"mail\": \".shapo@leetcode.com\"},\n",
    "]\n",
    "users_df = pd.DataFrame(users_data)\n",
    "\n",
    "# Run function\n",
    "result_df = valid_emails(users_df)\n",
    "\n",
    "# Print the result\n",
    "print(result_df)\n"
   ]
  },
  {
   "cell_type": "code",
   "execution_count": null,
   "id": "11112af3-de29-4d82-82c2-b399da18e33a",
   "metadata": {},
   "outputs": [],
   "source": []
  }
 ],
 "metadata": {
  "kernelspec": {
   "display_name": "Python 3 (ipykernel)",
   "language": "python",
   "name": "python3"
  },
  "language_info": {
   "codemirror_mode": {
    "name": "ipython",
    "version": 3
   },
   "file_extension": ".py",
   "mimetype": "text/x-python",
   "name": "python",
   "nbconvert_exporter": "python",
   "pygments_lexer": "ipython3",
   "version": "3.10.11"
  }
 },
 "nbformat": 4,
 "nbformat_minor": 5
}
