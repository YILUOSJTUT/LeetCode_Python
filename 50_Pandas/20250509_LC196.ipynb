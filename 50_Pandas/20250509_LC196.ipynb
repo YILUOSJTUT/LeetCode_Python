{
 "cells": [
  {
   "cell_type": "code",
   "execution_count": 2,
   "id": "5d156335-36e9-4c1f-a047-223bd6e5f6fc",
   "metadata": {},
   "outputs": [],
   "source": [
    "# https://leetcode.com/problems/delete-duplicate-emails/description/"
   ]
  },
  {
   "cell_type": "code",
   "execution_count": 1,
   "id": "759091a7-585c-4c60-8db9-8c9141be522f",
   "metadata": {},
   "outputs": [
    {
     "name": "stdout",
     "output_type": "stream",
     "text": [
      "   id             email\n",
      "0   1  john@example.com\n",
      "1   2   bob@example.com\n"
     ]
    }
   ],
   "source": [
    "import pandas as pd\n",
    "\n",
    "def delete_duplicate_emails(person: pd.DataFrame) -> None:\n",
    "    \"\"\"\n",
    "    Remove duplicate emails in-place, keeping the row with the smallest 'id'.\n",
    "    \"\"\"\n",
    "    person.sort_values(by=\"id\", inplace=True)\n",
    "    person.drop_duplicates(subset=[\"email\"], keep=\"first\", inplace=True)\n",
    "\n",
    "if __name__ == \"__main__\":\n",
    "    # Example data\n",
    "    person_df = pd.DataFrame({\n",
    "        \"id\": [1, 2, 3],\n",
    "        \"email\": [\"john@example.com\", \"bob@example.com\", \"john@example.com\"]\n",
    "    })\n",
    "\n",
    "    # Apply the function\n",
    "    delete_duplicate_emails(person_df)\n",
    "\n",
    "    # Print the resulting DataFrame\n",
    "    print(person_df.reset_index(drop=True))\n"
   ]
  },
  {
   "cell_type": "code",
   "execution_count": null,
   "id": "96b01e3e-b6df-43af-8c78-6cce1f29c5bb",
   "metadata": {},
   "outputs": [],
   "source": []
  }
 ],
 "metadata": {
  "kernelspec": {
   "display_name": "Python 3 (ipykernel)",
   "language": "python",
   "name": "python3"
  },
  "language_info": {
   "codemirror_mode": {
    "name": "ipython",
    "version": 3
   },
   "file_extension": ".py",
   "mimetype": "text/x-python",
   "name": "python",
   "nbconvert_exporter": "python",
   "pygments_lexer": "ipython3",
   "version": "3.10.11"
  }
 },
 "nbformat": 4,
 "nbformat_minor": 5
}
