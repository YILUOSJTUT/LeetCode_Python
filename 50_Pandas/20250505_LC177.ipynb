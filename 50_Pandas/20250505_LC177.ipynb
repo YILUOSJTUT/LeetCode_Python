{
 "cells": [
  {
   "cell_type": "code",
   "execution_count": 2,
   "id": "528118fa-dca4-4f25-9628-9d9e89aa2de0",
   "metadata": {},
   "outputs": [],
   "source": [
    "# https://leetcode.com/problems/nth-highest-salary/description/"
   ]
  },
  {
   "cell_type": "code",
   "execution_count": 1,
   "id": "b588dee9-d746-4362-9d48-8a2c7d664197",
   "metadata": {},
   "outputs": [
    {
     "name": "stdout",
     "output_type": "stream",
     "text": [
      "Example 1 result:\n",
      "   getNthHighestSalary(2)\n",
      "0                     200\n",
      "\n",
      "Example 2 result:\n",
      "  getNthHighestSalary(2)\n",
      "0                   None\n"
     ]
    }
   ],
   "source": [
    "import pandas as pd\n",
    "\n",
    "def nth_highest_salary(employee: pd.DataFrame, n: int) -> pd.DataFrame:\n",
    "    \"\"\"\n",
    "    Return the nth highest distinct salary from the employee table.\n",
    "    If there are fewer than n distinct salaries, return None (null).\n",
    "    \"\"\"\n",
    "    distinct_salaries = (\n",
    "        employee[\"salary\"]\n",
    "        .drop_duplicates()\n",
    "        .sort_values(ascending=False)\n",
    "        .reset_index(drop=True)\n",
    "    )\n",
    "    if n <= 0 or len(distinct_salaries) < n:\n",
    "        nth_salary = None\n",
    "    else:\n",
    "        nth_salary = distinct_salaries.iloc[n - 1]\n",
    "    col_name = f\"getNthHighestSalary({n})\"\n",
    "    return pd.DataFrame({col_name: [nth_salary]})\n",
    "\n",
    "# Example 1\n",
    "employee_df1 = pd.DataFrame({\n",
    "    \"id\": [1, 2, 3],\n",
    "    \"salary\": [100, 200, 300]\n",
    "})\n",
    "print(\"Example 1 result:\")\n",
    "print(nth_highest_salary(employee_df1, 2))\n",
    "\n",
    "# Example 2\n",
    "employee_df2 = pd.DataFrame({\n",
    "    \"id\": [1],\n",
    "    \"salary\": [100]\n",
    "})\n",
    "print(\"\\nExample 2 result:\")\n",
    "print(nth_highest_salary(employee_df2, 2))\n"
   ]
  },
  {
   "cell_type": "code",
   "execution_count": null,
   "id": "aa910c5b-2973-467d-82b3-8fc4d6e86e34",
   "metadata": {},
   "outputs": [],
   "source": []
  }
 ],
 "metadata": {
  "kernelspec": {
   "display_name": "Python 3 (ipykernel)",
   "language": "python",
   "name": "python3"
  },
  "language_info": {
   "codemirror_mode": {
    "name": "ipython",
    "version": 3
   },
   "file_extension": ".py",
   "mimetype": "text/x-python",
   "name": "python",
   "nbconvert_exporter": "python",
   "pygments_lexer": "ipython3",
   "version": "3.10.11"
  }
 },
 "nbformat": 4,
 "nbformat_minor": 5
}
