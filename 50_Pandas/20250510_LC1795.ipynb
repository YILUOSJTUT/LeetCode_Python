{
 "cells": [
  {
   "cell_type": "code",
   "execution_count": 2,
   "id": "511c4b72-ad30-4f85-b601-517d08f2f275",
   "metadata": {},
   "outputs": [],
   "source": [
    "# https://leetcode.com/problems/rearrange-products-table/"
   ]
  },
  {
   "cell_type": "code",
   "execution_count": 1,
   "id": "257c02ec-a7ce-4771-9da4-0875e6e0f97f",
   "metadata": {},
   "outputs": [
    {
     "name": "stdout",
     "output_type": "stream",
     "text": [
      "   product_id   store  price\n",
      "0           0  store1   95.0\n",
      "1           0  store2  100.0\n",
      "2           0  store3  105.0\n",
      "3           1  store1   70.0\n",
      "4           1  store3   80.0\n"
     ]
    }
   ],
   "source": [
    "import pandas as pd\n",
    "\n",
    "def rearrange_products_table(products: pd.DataFrame) -> pd.DataFrame:\n",
    "    \"\"\"\n",
    "    Reshape the products table by turning store columns into rows:\n",
    "    - 'product_id' stays as is.\n",
    "    - 'store1', 'store2', 'store3' become values in a new 'store' column.\n",
    "    - Their corresponding values become 'price'.\n",
    "    - Rows with null price are dropped.\n",
    "    \"\"\"\n",
    "    melted = products.melt(\n",
    "        id_vars=[\"product_id\"],\n",
    "        var_name=\"store\",\n",
    "        value_name=\"price\"\n",
    "    )\n",
    "    cleaned = melted.dropna(subset=[\"price\"])\n",
    "    result = (\n",
    "        cleaned\n",
    "        .sort_values(by=[\"product_id\", \"store\"])\n",
    "        .reset_index(drop=True)\n",
    "    )\n",
    "    return result\n",
    "\n",
    "# Example 1 data\n",
    "products_df = pd.DataFrame([\n",
    "    {\"product_id\": 0, \"store1\": 95,  \"store2\": 100, \"store3\": 105},\n",
    "    {\"product_id\": 1, \"store1\": 70,  \"store2\": None, \"store3\": 80},\n",
    "])\n",
    "\n",
    "# Run the function and print the result\n",
    "result_df = rearrange_products_table(products_df)\n",
    "print(result_df)\n"
   ]
  },
  {
   "cell_type": "code",
   "execution_count": null,
   "id": "68762a2b-df6b-489e-9acd-f79eb4c4eee6",
   "metadata": {},
   "outputs": [],
   "source": []
  }
 ],
 "metadata": {
  "kernelspec": {
   "display_name": "Python 3 (ipykernel)",
   "language": "python",
   "name": "python3"
  },
  "language_info": {
   "codemirror_mode": {
    "name": "ipython",
    "version": 3
   },
   "file_extension": ".py",
   "mimetype": "text/x-python",
   "name": "python",
   "nbconvert_exporter": "python",
   "pygments_lexer": "ipython3",
   "version": "3.10.11"
  }
 },
 "nbformat": 4,
 "nbformat_minor": 5
}
