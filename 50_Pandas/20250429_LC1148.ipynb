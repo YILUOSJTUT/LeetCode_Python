{
 "cells": [
  {
   "cell_type": "markdown",
   "id": "2f1709e7-8b7b-46e4-9b28-b8332586ac76",
   "metadata": {},
   "source": [
    "# https://leetcode.com/problems/article-views-i/description/"
   ]
  },
  {
   "cell_type": "code",
   "execution_count": 1,
   "id": "aa2f0511-fd53-4649-b8e5-11e6d16fc0f4",
   "metadata": {},
   "outputs": [
    {
     "name": "stdout",
     "output_type": "stream",
     "text": [
      "   id\n",
      "5   4\n",
      "2   7\n"
     ]
    }
   ],
   "source": [
    "import pandas as pd\n",
    "\n",
    "def article_views(views: pd.DataFrame) -> pd.DataFrame:\n",
    "    \"\"\"\n",
    "    Finds all authors who viewed at least one of their own articles.\n",
    "    Returns a DataFrame with a single column 'id', sorted ascending.\n",
    "    \"\"\"\n",
    "    df = views.loc[views['author_id'] == views['viewer_id'], ['author_id']]\n",
    "    df = (\n",
    "        df.drop_duplicates()\n",
    "          .rename(columns={'author_id': 'id'})\n",
    "          .sort_values('id')\n",
    "    )\n",
    "    return df[['id']]\n",
    "\n",
    "if __name__ == \"__main__\":\n",
    "    # Example data\n",
    "    data = [\n",
    "        {\"article_id\": 1, \"author_id\": 3, \"viewer_id\": 5, \"view_date\": \"2019-08-01\"},\n",
    "        {\"article_id\": 1, \"author_id\": 3, \"viewer_id\": 6, \"view_date\": \"2019-08-02\"},\n",
    "        {\"article_id\": 2, \"author_id\": 7, \"viewer_id\": 7, \"view_date\": \"2019-08-01\"},\n",
    "        {\"article_id\": 2, \"author_id\": 7, \"viewer_id\": 6, \"view_date\": \"2019-08-02\"},\n",
    "        {\"article_id\": 4, \"author_id\": 7, \"viewer_id\": 1, \"view_date\": \"2019-07-22\"},\n",
    "        {\"article_id\": 3, \"author_id\": 4, \"viewer_id\": 4, \"view_date\": \"2019-07-21\"},\n",
    "        {\"article_id\": 3, \"author_id\": 4, \"viewer_id\": 4, \"view_date\": \"2019-07-21\"},\n",
    "    ]\n",
    "    views_df = pd.DataFrame(data)\n",
    "\n",
    "    result_df = article_views(views_df)\n",
    "    print(result_df)\n",
    "    # Expected:\n",
    "    #    id\n",
    "    #    4\n",
    "    #    7\n"
   ]
  }
 ],
 "metadata": {
  "kernelspec": {
   "display_name": "Python 3 (ipykernel)",
   "language": "python",
   "name": "python3"
  },
  "language_info": {
   "codemirror_mode": {
    "name": "ipython",
    "version": 3
   },
   "file_extension": ".py",
   "mimetype": "text/x-python",
   "name": "python",
   "nbconvert_exporter": "python",
   "pygments_lexer": "ipython3",
   "version": "3.10.11"
  }
 },
 "nbformat": 4,
 "nbformat_minor": 5
}
