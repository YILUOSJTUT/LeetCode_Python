{
 "cells": [
  {
   "cell_type": "code",
   "execution_count": 2,
   "id": "68c0bd7f-9b76-4396-b39c-a1c2ec4a33bd",
   "metadata": {},
   "outputs": [],
   "source": [
    "# https://leetcode.com/problems/calculate-special-bonus/description/"
   ]
  },
  {
   "cell_type": "code",
   "execution_count": 1,
   "id": "072e78b3-eec4-4995-a4c3-4d383dd5be2f",
   "metadata": {},
   "outputs": [
    {
     "name": "stdout",
     "output_type": "stream",
     "text": [
      "   employee_id  bonus\n",
      "0            2      0\n",
      "1            3      0\n",
      "2            7   7400\n",
      "3            8      0\n",
      "4            9   7700\n"
     ]
    }
   ],
   "source": [
    "import pandas as pd\n",
    "import numpy as np\n",
    "\n",
    "def calculate_special_bonus(employees: pd.DataFrame) -> pd.DataFrame:\n",
    "    \"\"\"\n",
    "    Calculate bonus for each employee:\n",
    "    - If employee_id is odd AND name does NOT start with 'M', bonus = salary.\n",
    "    - Otherwise, bonus = 0.\n",
    "    \"\"\"\n",
    "    employees = employees.copy()  # Avoid modifying the original DataFrame\n",
    "    employees['bonus'] = np.where(\n",
    "        (employees['employee_id'] % 2 == 1) &\n",
    "        (~employees['name'].str.startswith('M')),\n",
    "        employees['salary'],\n",
    "        0\n",
    "    )\n",
    "    return employees[['employee_id', 'bonus']].sort_values(by='employee_id')\n",
    "\n",
    "if __name__ == \"__main__\":\n",
    "    # Example 1 data\n",
    "    employees_data = [\n",
    "        {\"employee_id\": 2, \"name\": \"Meir\",    \"salary\": 3000},\n",
    "        {\"employee_id\": 3, \"name\": \"Michael\", \"salary\": 3800},\n",
    "        {\"employee_id\": 7, \"name\": \"Addilyn\", \"salary\": 7400},\n",
    "        {\"employee_id\": 8, \"name\": \"Juan\",    \"salary\": 6100},\n",
    "        {\"employee_id\": 9, \"name\": \"Kannon\",  \"salary\": 7700},\n",
    "    ]\n",
    "    employees_df = pd.DataFrame(employees_data)\n",
    "\n",
    "    # Calculate bonuses\n",
    "    result_df = calculate_special_bonus(employees_df)\n",
    "\n",
    "    # Print the result\n",
    "    print(result_df)\n",
    "\n",
    "    # Expected output:\n",
    "    #    employee_id  bonus\n",
    "    # 0            2      0\n",
    "    # 1            3      0\n",
    "    # 2            7   7400\n",
    "    # 3            8      0\n",
    "    # 4            9   7700\n"
   ]
  },
  {
   "cell_type": "code",
   "execution_count": null,
   "id": "5ee36aee-a0d4-4563-9434-95a57deb5b53",
   "metadata": {},
   "outputs": [],
   "source": []
  }
 ],
 "metadata": {
  "kernelspec": {
   "display_name": "Python 3 (ipykernel)",
   "language": "python",
   "name": "python3"
  },
  "language_info": {
   "codemirror_mode": {
    "name": "ipython",
    "version": 3
   },
   "file_extension": ".py",
   "mimetype": "text/x-python",
   "name": "python",
   "nbconvert_exporter": "python",
   "pygments_lexer": "ipython3",
   "version": "3.10.11"
  }
 },
 "nbformat": 4,
 "nbformat_minor": 5
}
