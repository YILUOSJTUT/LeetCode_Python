{
 "cells": [
  {
   "cell_type": "code",
   "execution_count": 2,
   "id": "f224a860-f098-47e2-b200-be4f99e5741d",
   "metadata": {},
   "outputs": [],
   "source": [
    "# https://leetcode.com/problems/invalid-tweets/description/"
   ]
  },
  {
   "cell_type": "code",
   "execution_count": 1,
   "id": "e688d18d-ff13-4526-8000-4c68db1bb6bc",
   "metadata": {},
   "outputs": [
    {
     "name": "stdout",
     "output_type": "stream",
     "text": [
      "   tweet_id\n",
      "1         2\n"
     ]
    }
   ],
   "source": [
    "import pandas as pd\n",
    "\n",
    "def invalid_tweets(tweets: pd.DataFrame) -> pd.DataFrame:\n",
    "    \"\"\"\n",
    "    This function returns the tweet_id of tweets whose content length is strictly greater than 15.\n",
    "    \"\"\"\n",
    "    # Filter tweets where content length > 15 and select only tweet_id\n",
    "    result = tweets.loc[tweets['content'].str.len() > 15, ['tweet_id']]\n",
    "    return result\n",
    "\n",
    "# Example 1 data\n",
    "tweets_data = [\n",
    "    {\"tweet_id\": 1, \"content\": \"Let us Code\"},\n",
    "    {\"tweet_id\": 2, \"content\": \"More than fifteen chars are here!\"},\n",
    "]\n",
    "tweets_df = pd.DataFrame(tweets_data)\n",
    "\n",
    "# Run the function\n",
    "result_df = invalid_tweets(tweets_df)\n",
    "\n",
    "# Print the result\n",
    "print(result_df)\n"
   ]
  },
  {
   "cell_type": "code",
   "execution_count": null,
   "id": "79a129b7-3d00-47e7-8ac8-1a17f5f0621b",
   "metadata": {},
   "outputs": [],
   "source": []
  }
 ],
 "metadata": {
  "kernelspec": {
   "display_name": "Python 3 (ipykernel)",
   "language": "python",
   "name": "python3"
  },
  "language_info": {
   "codemirror_mode": {
    "name": "ipython",
    "version": 3
   },
   "file_extension": ".py",
   "mimetype": "text/x-python",
   "name": "python",
   "nbconvert_exporter": "python",
   "pygments_lexer": "ipython3",
   "version": "3.10.11"
  }
 },
 "nbformat": 4,
 "nbformat_minor": 5
}
